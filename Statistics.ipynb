{
 "cells": [
  {
   "cell_type": "markdown",
   "id": "d836dc6c",
   "metadata": {},
   "source": [
    "### Statistics in Data Science ###"
   ]
  },
  {
   "cell_type": "markdown",
   "id": "95f2390a",
   "metadata": {},
   "source": [
    "#### Sample Teory ####"
   ]
  },
  {
   "cell_type": "code",
   "execution_count": 1,
   "id": "342cceaa",
   "metadata": {},
   "outputs": [],
   "source": [
    "import numpy as np"
   ]
  },
  {
   "cell_type": "code",
   "execution_count": 2,
   "id": "572fffe4",
   "metadata": {},
   "outputs": [
    {
     "data": {
      "text/plain": [
       "array([49, 75, 37, 32, 45, 73, 37, 69, 18,  1, 13, 44, 11, 61, 66, 54, 57,\n",
       "        8, 10, 65, 37, 12, 27, 34, 69, 16, 54, 12, 42, 59, 75,  4, 73, 13,\n",
       "        4, 26, 79, 76, 43, 32, 66, 46, 47, 79, 67, 42, 32, 70, 60, 75, 12,\n",
       "       77, 24, 45, 40, 49,  8, 69, 53, 41, 25, 69, 74,  1, 53, 72, 64, 28,\n",
       "       41, 59, 18, 50, 58, 69, 21, 65, 24, 24, 40, 51, 62, 12, 49, 14, 75,\n",
       "       43, 25, 74, 12, 61, 41, 54, 39, 41, 44, 44, 26, 36, 64, 43, 19, 69,\n",
       "       67, 50, 21, 73, 78, 44,  3,  4, 46, 44, 60, 49, 20, 70, 15, 12, 60,\n",
       "       16, 17, 62, 26, 77, 70, 65, 12, 13, 60, 12, 12, 44, 61, 48, 71, 33,\n",
       "       24, 67, 54,  9, 28, 76, 64, 22, 32, 43, 71, 74, 46,  2, 75, 69, 38,\n",
       "       78, 65,  6, 71,  1, 27, 21, 78, 39, 32, 39, 73, 14, 73,  4, 37, 61,\n",
       "       11, 27,  4, 29, 30, 64, 31, 40, 38, 65, 26, 14, 39, 22, 79, 49, 60,\n",
       "       64, 48, 23, 56,  5, 24, 18, 52, 22, 61, 21, 21, 49,  1, 11, 37, 49,\n",
       "        3, 28, 28, 31, 37, 56, 36, 38, 19, 47, 46, 61, 60, 78, 28, 35, 20,\n",
       "       39, 47,  9, 10, 36, 39, 44,  6, 75, 15, 78, 47,  4, 35, 34, 61, 65,\n",
       "       33, 56, 20, 19, 41, 53, 70, 44, 41, 66,  4, 40, 59, 14, 49, 31, 56,\n",
       "       33, 45, 66, 67, 45, 48, 44, 43, 50, 17,  5, 48, 22, 44, 11,  1,  6,\n",
       "       37, 15, 17, 68, 18, 25, 31, 65, 38,  3,  2,  3, 21, 40, 58, 19, 59,\n",
       "        0, 63, 21, 39, 21, 26, 48, 38, 17, 17, 10, 64, 16,  1, 61, 39, 39,\n",
       "       65, 40, 48, 73, 41, 72,  7, 60, 32, 61, 71,  6, 69, 55, 26, 67, 41,\n",
       "       77, 64, 16, 77, 13, 51, 54,  0, 67, 40, 52, 64, 31, 24, 33, 42, 14,\n",
       "       66, 71,  9, 63, 40, 62, 77,  6, 23, 37, 30, 79,  9,  4, 67, 63,  5,\n",
       "       64, 68, 37, 33, 22, 75,  0, 54, 43, 19, 60, 17, 44, 72, 33, 17, 40,\n",
       "       55, 22, 55, 75, 31, 47, 72, 20, 59, 25, 65, 57, 50, 14, 63, 64, 25,\n",
       "       18, 60, 47, 47, 49, 31, 38, 67, 14, 57, 41, 56, 33, 59, 79, 20, 36,\n",
       "       45, 34, 69, 50, 21, 27, 26, 40,  8, 21, 72, 13, 71, 13, 72, 17, 78,\n",
       "        8, 77, 58, 20, 13, 79, 11, 71, 64, 68, 15, 75, 54, 31, 74, 36, 26,\n",
       "       58, 19,  5, 24, 47,  3, 46, 26, 59, 79, 12,  5,  0, 76,  1,  0, 20,\n",
       "       61, 16, 61, 27, 55, 63, 72, 43, 23, 75, 46, 34, 67,  8, 71,  1, 64,\n",
       "       21, 24, 40,  3, 64, 12, 76, 24, 62, 23,  1, 42, 58,  6, 51, 28, 46,\n",
       "        5,  1, 30, 28,  7, 45,  0, 33, 67, 25,  9, 78, 66,  8,  6, 53, 20,\n",
       "       79, 38, 55, 71, 53,  1, 45, 54, 14, 51, 51, 44, 11, 66, 56, 73, 63,\n",
       "       27, 24, 10,  1, 72, 72, 69, 76, 76, 32,  4, 29, 37, 15, 38, 14,  6,\n",
       "        4, 60, 53, 38, 19, 60, 43, 23, 37, 60, 44, 77, 69,  4, 46, 48,  1,\n",
       "       36,  9, 23, 69, 30,  4, 66, 73, 30, 47, 31, 69, 14,  6, 43, 62, 75,\n",
       "       62, 20, 79,  3, 75, 69, 20, 44,  9,  3, 62, 14, 79, 41, 20, 39,  4,\n",
       "       59,  5,  3, 50, 21, 38, 31, 65, 30, 76, 74, 60, 23, 52, 29, 48, 51,\n",
       "       16, 21, 30, 34, 33, 76, 20, 29, 73, 30, 64, 71, 35, 60, 59, 28, 29,\n",
       "       27, 68, 67, 40, 73, 58, 65,  2, 50,  0, 65, 33, 70, 43, 18, 54, 20,\n",
       "       34, 40, 31, 25,  9, 37, 42, 29,  4, 75, 62, 68,  9, 25, 64, 55, 37,\n",
       "       38, 18, 24, 78, 61, 18, 53, 15, 62,  0, 32, 25, 70, 40, 52, 26, 68,\n",
       "       42,  3, 50, 26, 12, 17, 77, 67, 73, 73, 26, 43, 49, 47, 15, 58, 16,\n",
       "       14, 33,  4, 64,  9, 78, 68, 74, 42, 13,  5, 77, 79, 56, 70, 75, 32,\n",
       "       70, 29, 62,  8, 41, 38, 37, 40, 51, 62, 71,  0,  2, 20, 48, 50, 48,\n",
       "       49, 45, 57, 18, 68, 22, 53, 64, 30, 34,  1, 55, 52, 12, 22, 50, 23,\n",
       "       20,  9, 50, 13, 58, 28, 22, 52, 65, 53, 69, 71, 75,  1, 76, 19, 23,\n",
       "       45, 63, 70, 54, 20, 22, 75, 49, 37, 30, 53, 34, 46, 12, 27, 17,  4,\n",
       "       12, 70,  0, 23, 61, 23, 43, 50, 34, 44, 62, 21, 25, 58,  1, 44, 33,\n",
       "       50, 17, 24,  8, 40, 49, 63,  3, 41, 20, 24, 68, 69, 28, 32, 44, 39,\n",
       "        7, 77, 26, 16, 32, 60, 54, 34, 14, 52,  6, 50, 60, 53, 33, 43, 37,\n",
       "       32, 67, 14, 23, 62, 54, 59, 27, 13, 65, 26, 51, 40, 58, 17, 70, 75,\n",
       "       78, 52,  1,  1, 50,  7, 78, 59, 34, 51, 34,  0, 51, 71, 52, 67, 76,\n",
       "       42, 28, 23, 79, 43,  5, 45, 30, 15, 79,  7,  4, 57, 22,  3, 77, 28,\n",
       "       23, 70, 24, 57, 59, 66, 69, 14, 55, 56, 59, 61,  3,  9, 42,  6, 10,\n",
       "       10,  2,  8, 74, 12, 74, 30, 60,  4, 75, 38, 35, 40,  1,  3, 58, 18,\n",
       "       40, 53,  5, 30, 10, 66, 45, 76, 67, 37, 74, 73, 35, 20, 33, 74, 37,\n",
       "       72,  4,  5,  2, 11, 72, 51, 14, 30, 14, 50, 24, 63, 27, 69, 61, 44,\n",
       "       50, 37, 70, 21, 48, 30,  1, 59, 39, 11, 45, 47, 14,  7, 64, 22, 58,\n",
       "       37, 44,  1, 55, 76, 70, 59, 40, 75,  8, 44, 25, 52, 29, 29, 78, 23,\n",
       "       29, 12, 57, 28, 41, 46, 68, 53, 57,  6, 37, 36, 56, 33])"
      ]
     },
     "execution_count": 2,
     "metadata": {},
     "output_type": "execute_result"
    }
   ],
   "source": [
    "np.random.randint(0,80,1000)"
   ]
  },
  {
   "cell_type": "code",
   "execution_count": 13,
   "id": "32a4f1f5",
   "metadata": {},
   "outputs": [],
   "source": [
    "a=np.random.randint(0,100,1000)"
   ]
  },
  {
   "cell_type": "markdown",
   "id": "1e4710d8",
   "metadata": {},
   "source": [
    "We use 'random.seed' to take same data."
   ]
  },
  {
   "cell_type": "code",
   "execution_count": 14,
   "id": "1c95bee6",
   "metadata": {},
   "outputs": [],
   "source": [
    "np.random.seed(115)"
   ]
  },
  {
   "cell_type": "code",
   "execution_count": 15,
   "id": "9c6471a3",
   "metadata": {},
   "outputs": [
    {
     "data": {
      "text/plain": [
       "array([46, 33, 29, 14,  4, 55, 71,  1, 68, 18, 15, 34, 72, 94,  6, 26, 78,\n",
       "       80, 20, 13, 93, 53, 94, 51, 24, 24, 19, 71, 23, 67, 51, 44, 43, 23,\n",
       "       96,  8, 68, 26, 79, 24, 33,  0, 26, 37, 38, 71, 70, 32, 69,  0, 42,\n",
       "       70, 48, 39, 15, 15, 55, 50, 92, 77, 93, 13,  8, 93, 86,  8,  4,  0,\n",
       "       10, 21, 75, 27, 63, 37, 13, 64, 42, 62, 29, 42, 27,  7, 95, 74, 44,\n",
       "       86, 75, 37, 98, 47, 16, 35, 32, 82, 72, 23, 93, 98, 49, 61])"
      ]
     },
     "execution_count": 15,
     "metadata": {},
     "output_type": "execute_result"
    }
   ],
   "source": [
    "sample=np.random.choice(a, size=100)\n",
    "sample"
   ]
  },
  {
   "cell_type": "code",
   "execution_count": 16,
   "id": "8a64818b",
   "metadata": {},
   "outputs": [
    {
     "data": {
      "text/plain": [
       "array([46, 33, 29, 14,  4, 55, 71,  1, 68, 18, 15, 34, 72, 94,  6, 26, 78,\n",
       "       80, 20, 13])"
      ]
     },
     "execution_count": 16,
     "metadata": {},
     "output_type": "execute_result"
    }
   ],
   "source": [
    "sample[0:20]"
   ]
  },
  {
   "cell_type": "code",
   "execution_count": 17,
   "id": "a8327391",
   "metadata": {},
   "outputs": [
    {
     "data": {
      "text/plain": [
       "45.78"
      ]
     },
     "execution_count": 17,
     "metadata": {},
     "output_type": "execute_result"
    }
   ],
   "source": [
    "sample.mean()"
   ]
  },
  {
   "cell_type": "code",
   "execution_count": 18,
   "id": "fd99bc0c",
   "metadata": {},
   "outputs": [
    {
     "data": {
      "text/plain": [
       "49.237"
      ]
     },
     "execution_count": 18,
     "metadata": {},
     "output_type": "execute_result"
    }
   ],
   "source": [
    "a.mean()"
   ]
  },
  {
   "cell_type": "markdown",
   "id": "84743a52",
   "metadata": {},
   "source": [
    "#### Sampling Distributions ####"
   ]
  },
  {
   "cell_type": "code",
   "execution_count": 19,
   "id": "793a2eba",
   "metadata": {},
   "outputs": [],
   "source": [
    "sample1=np.random.choice(a, size=100)\n",
    "sample2=np.random.choice(a, size=100)\n",
    "sample3=np.random.choice(a, size=100)\n",
    "sample4=np.random.choice(a, size=100)\n",
    "sample5=np.random.choice(a, size=100)\n",
    "sample6=np.random.choice(a, size=100)\n",
    "sample7=np.random.choice(a, size=100)\n",
    "sample8=np.random.choice(a, size=100)\n",
    "sample9=np.random.choice(a, size=100)\n",
    "sample10=np.random.choice(a, size=100)"
   ]
  },
  {
   "cell_type": "code",
   "execution_count": 26,
   "id": "3babad3f",
   "metadata": {},
   "outputs": [
    {
     "data": {
      "text/plain": [
       "52.311"
      ]
     },
     "execution_count": 26,
     "metadata": {},
     "output_type": "execute_result"
    }
   ],
   "source": [
    "(sample1.mean()+sample2.mean()+sample3.mean()+sample4.mean()+sample5.mean()+sample6.mean()+sample7.mean()+sample8.mean()+sample9.mean()+sample10.mean())/10"
   ]
  },
  {
   "cell_type": "markdown",
   "id": "d65c1308",
   "metadata": {},
   "source": [
    "#### Mean, Variance, Standard Deviation, Covariance, Correlation ####"
   ]
  },
  {
   "cell_type": "markdown",
   "id": "d6633185",
   "metadata": {},
   "source": [
    "* Mean - The mean, also known as the average, is a central value of a finite set of numbers.\n",
    "* Variance - The variance measures how far the data points are spread out from the average value, and is equal to the sum of squares of differences between the data values and the average (the mean).\n",
    "* Standard Deviation - The standard deviation is simply the square root of the variance and measures the extent to which data varies from its mean.\n",
    "* Covariance -The covariance is a measure of the joint variability of two random variables and describes the relationship between these two variables.\n",
    "* Correlation -The correlation is also a measure for relationship and it measures both the strength and the direction of the linear relationship between two variables."
   ]
  },
  {
   "cell_type": "code",
   "execution_count": 27,
   "id": "291cceee",
   "metadata": {},
   "outputs": [],
   "source": [
    "import seaborn as sns"
   ]
  },
  {
   "cell_type": "code",
   "execution_count": 29,
   "id": "f6606e36",
   "metadata": {},
   "outputs": [
    {
     "data": {
      "text/html": [
       "<div>\n",
       "<style scoped>\n",
       "    .dataframe tbody tr th:only-of-type {\n",
       "        vertical-align: middle;\n",
       "    }\n",
       "\n",
       "    .dataframe tbody tr th {\n",
       "        vertical-align: top;\n",
       "    }\n",
       "\n",
       "    .dataframe thead th {\n",
       "        text-align: right;\n",
       "    }\n",
       "</style>\n",
       "<table border=\"1\" class=\"dataframe\">\n",
       "  <thead>\n",
       "    <tr style=\"text-align: right;\">\n",
       "      <th></th>\n",
       "      <th>total_bill</th>\n",
       "      <th>tip</th>\n",
       "      <th>sex</th>\n",
       "      <th>smoker</th>\n",
       "      <th>day</th>\n",
       "      <th>time</th>\n",
       "      <th>size</th>\n",
       "    </tr>\n",
       "  </thead>\n",
       "  <tbody>\n",
       "    <tr>\n",
       "      <th>0</th>\n",
       "      <td>16.99</td>\n",
       "      <td>1.01</td>\n",
       "      <td>Female</td>\n",
       "      <td>No</td>\n",
       "      <td>Sun</td>\n",
       "      <td>Dinner</td>\n",
       "      <td>2</td>\n",
       "    </tr>\n",
       "    <tr>\n",
       "      <th>1</th>\n",
       "      <td>10.34</td>\n",
       "      <td>1.66</td>\n",
       "      <td>Male</td>\n",
       "      <td>No</td>\n",
       "      <td>Sun</td>\n",
       "      <td>Dinner</td>\n",
       "      <td>3</td>\n",
       "    </tr>\n",
       "    <tr>\n",
       "      <th>2</th>\n",
       "      <td>21.01</td>\n",
       "      <td>3.50</td>\n",
       "      <td>Male</td>\n",
       "      <td>No</td>\n",
       "      <td>Sun</td>\n",
       "      <td>Dinner</td>\n",
       "      <td>3</td>\n",
       "    </tr>\n",
       "    <tr>\n",
       "      <th>3</th>\n",
       "      <td>23.68</td>\n",
       "      <td>3.31</td>\n",
       "      <td>Male</td>\n",
       "      <td>No</td>\n",
       "      <td>Sun</td>\n",
       "      <td>Dinner</td>\n",
       "      <td>2</td>\n",
       "    </tr>\n",
       "    <tr>\n",
       "      <th>4</th>\n",
       "      <td>24.59</td>\n",
       "      <td>3.61</td>\n",
       "      <td>Female</td>\n",
       "      <td>No</td>\n",
       "      <td>Sun</td>\n",
       "      <td>Dinner</td>\n",
       "      <td>4</td>\n",
       "    </tr>\n",
       "    <tr>\n",
       "      <th>...</th>\n",
       "      <td>...</td>\n",
       "      <td>...</td>\n",
       "      <td>...</td>\n",
       "      <td>...</td>\n",
       "      <td>...</td>\n",
       "      <td>...</td>\n",
       "      <td>...</td>\n",
       "    </tr>\n",
       "    <tr>\n",
       "      <th>239</th>\n",
       "      <td>29.03</td>\n",
       "      <td>5.92</td>\n",
       "      <td>Male</td>\n",
       "      <td>No</td>\n",
       "      <td>Sat</td>\n",
       "      <td>Dinner</td>\n",
       "      <td>3</td>\n",
       "    </tr>\n",
       "    <tr>\n",
       "      <th>240</th>\n",
       "      <td>27.18</td>\n",
       "      <td>2.00</td>\n",
       "      <td>Female</td>\n",
       "      <td>Yes</td>\n",
       "      <td>Sat</td>\n",
       "      <td>Dinner</td>\n",
       "      <td>2</td>\n",
       "    </tr>\n",
       "    <tr>\n",
       "      <th>241</th>\n",
       "      <td>22.67</td>\n",
       "      <td>2.00</td>\n",
       "      <td>Male</td>\n",
       "      <td>Yes</td>\n",
       "      <td>Sat</td>\n",
       "      <td>Dinner</td>\n",
       "      <td>2</td>\n",
       "    </tr>\n",
       "    <tr>\n",
       "      <th>242</th>\n",
       "      <td>17.82</td>\n",
       "      <td>1.75</td>\n",
       "      <td>Male</td>\n",
       "      <td>No</td>\n",
       "      <td>Sat</td>\n",
       "      <td>Dinner</td>\n",
       "      <td>2</td>\n",
       "    </tr>\n",
       "    <tr>\n",
       "      <th>243</th>\n",
       "      <td>18.78</td>\n",
       "      <td>3.00</td>\n",
       "      <td>Female</td>\n",
       "      <td>No</td>\n",
       "      <td>Thur</td>\n",
       "      <td>Dinner</td>\n",
       "      <td>2</td>\n",
       "    </tr>\n",
       "  </tbody>\n",
       "</table>\n",
       "<p>244 rows × 7 columns</p>\n",
       "</div>"
      ],
      "text/plain": [
       "     total_bill   tip     sex smoker   day    time  size\n",
       "0         16.99  1.01  Female     No   Sun  Dinner     2\n",
       "1         10.34  1.66    Male     No   Sun  Dinner     3\n",
       "2         21.01  3.50    Male     No   Sun  Dinner     3\n",
       "3         23.68  3.31    Male     No   Sun  Dinner     2\n",
       "4         24.59  3.61  Female     No   Sun  Dinner     4\n",
       "..          ...   ...     ...    ...   ...     ...   ...\n",
       "239       29.03  5.92    Male     No   Sat  Dinner     3\n",
       "240       27.18  2.00  Female    Yes   Sat  Dinner     2\n",
       "241       22.67  2.00    Male    Yes   Sat  Dinner     2\n",
       "242       17.82  1.75    Male     No   Sat  Dinner     2\n",
       "243       18.78  3.00  Female     No  Thur  Dinner     2\n",
       "\n",
       "[244 rows x 7 columns]"
      ]
     },
     "execution_count": 29,
     "metadata": {},
     "output_type": "execute_result"
    }
   ],
   "source": [
    "df_t=sns.load_dataset('tips')\n",
    "df_t"
   ]
  },
  {
   "cell_type": "code",
   "execution_count": 30,
   "id": "d036ab35",
   "metadata": {},
   "outputs": [
    {
     "data": {
      "text/html": [
       "<div>\n",
       "<style scoped>\n",
       "    .dataframe tbody tr th:only-of-type {\n",
       "        vertical-align: middle;\n",
       "    }\n",
       "\n",
       "    .dataframe tbody tr th {\n",
       "        vertical-align: top;\n",
       "    }\n",
       "\n",
       "    .dataframe thead th {\n",
       "        text-align: right;\n",
       "    }\n",
       "</style>\n",
       "<table border=\"1\" class=\"dataframe\">\n",
       "  <thead>\n",
       "    <tr style=\"text-align: right;\">\n",
       "      <th></th>\n",
       "      <th>count</th>\n",
       "      <th>mean</th>\n",
       "      <th>std</th>\n",
       "      <th>min</th>\n",
       "      <th>25%</th>\n",
       "      <th>50%</th>\n",
       "      <th>75%</th>\n",
       "      <th>max</th>\n",
       "    </tr>\n",
       "  </thead>\n",
       "  <tbody>\n",
       "    <tr>\n",
       "      <th>total_bill</th>\n",
       "      <td>244.0</td>\n",
       "      <td>19.785943</td>\n",
       "      <td>8.902412</td>\n",
       "      <td>3.07</td>\n",
       "      <td>13.3475</td>\n",
       "      <td>17.795</td>\n",
       "      <td>24.1275</td>\n",
       "      <td>50.81</td>\n",
       "    </tr>\n",
       "    <tr>\n",
       "      <th>tip</th>\n",
       "      <td>244.0</td>\n",
       "      <td>2.998279</td>\n",
       "      <td>1.383638</td>\n",
       "      <td>1.00</td>\n",
       "      <td>2.0000</td>\n",
       "      <td>2.900</td>\n",
       "      <td>3.5625</td>\n",
       "      <td>10.00</td>\n",
       "    </tr>\n",
       "    <tr>\n",
       "      <th>size</th>\n",
       "      <td>244.0</td>\n",
       "      <td>2.569672</td>\n",
       "      <td>0.951100</td>\n",
       "      <td>1.00</td>\n",
       "      <td>2.0000</td>\n",
       "      <td>2.000</td>\n",
       "      <td>3.0000</td>\n",
       "      <td>6.00</td>\n",
       "    </tr>\n",
       "  </tbody>\n",
       "</table>\n",
       "</div>"
      ],
      "text/plain": [
       "            count       mean       std   min      25%     50%      75%    max\n",
       "total_bill  244.0  19.785943  8.902412  3.07  13.3475  17.795  24.1275  50.81\n",
       "tip         244.0   2.998279  1.383638  1.00   2.0000   2.900   3.5625  10.00\n",
       "size        244.0   2.569672  0.951100  1.00   2.0000   2.000   3.0000   6.00"
      ]
     },
     "execution_count": 30,
     "metadata": {},
     "output_type": "execute_result"
    }
   ],
   "source": [
    "df_t.describe().T"
   ]
  },
  {
   "cell_type": "code",
   "execution_count": 33,
   "id": "75a02450",
   "metadata": {},
   "outputs": [
    {
     "name": "stdout",
     "output_type": "stream",
     "text": [
      "Collecting researchpy\n",
      "  Downloading researchpy-0.3.5-py3-none-any.whl (33 kB)\n",
      "Requirement already satisfied: scipy in c:\\users\\user202\\appdata\\local\\programs\\python\\python37\\lib\\site-packages (from researchpy) (1.6.3)\n",
      "Collecting statsmodels\n",
      "  Downloading statsmodels-0.13.2-cp37-cp37m-win_amd64.whl (9.0 MB)\n",
      "     ---------------------------------------- 9.0/9.0 MB 2.5 MB/s eta 0:00:00\n",
      "Collecting patsy\n",
      "  Downloading patsy-0.5.2-py2.py3-none-any.whl (233 kB)\n",
      "     -------------------------------------- 233.7/233.7 kB 2.4 MB/s eta 0:00:00\n",
      "Requirement already satisfied: pandas in c:\\users\\user202\\appdata\\local\\programs\\python\\python37\\lib\\site-packages (from researchpy) (1.1.5)\n",
      "Requirement already satisfied: numpy in c:\\users\\user202\\appdata\\local\\programs\\python\\python37\\lib\\site-packages (from researchpy) (1.19.5)\n",
      "Requirement already satisfied: python-dateutil>=2.7.3 in c:\\users\\user202\\appdata\\local\\programs\\python\\python37\\lib\\site-packages (from pandas->researchpy) (2.8.1)\n",
      "Requirement already satisfied: pytz>=2017.2 in c:\\users\\user202\\appdata\\local\\programs\\python\\python37\\lib\\site-packages (from pandas->researchpy) (2021.1)\n",
      "Requirement already satisfied: six in c:\\users\\user202\\appdata\\local\\programs\\python\\python37\\lib\\site-packages (from patsy->researchpy) (1.15.0)\n",
      "Collecting packaging>=21.3\n",
      "  Downloading packaging-21.3-py3-none-any.whl (40 kB)\n",
      "     -------------------------------------- 40.8/40.8 kB 984.2 kB/s eta 0:00:00\n",
      "Requirement already satisfied: pyparsing!=3.0.5,>=2.0.2 in c:\\users\\user202\\appdata\\local\\programs\\python\\python37\\lib\\site-packages (from packaging>=21.3->statsmodels->researchpy) (2.4.7)\n",
      "Installing collected packages: patsy, packaging, statsmodels, researchpy\n",
      "  Attempting uninstall: packaging\n",
      "    Found existing installation: packaging 20.9\n",
      "    Uninstalling packaging-20.9:\n",
      "      Successfully uninstalled packaging-20.9\n",
      "Successfully installed packaging-21.3 patsy-0.5.2 researchpy-0.3.5 statsmodels-0.13.2\n"
     ]
    }
   ],
   "source": [
    "!pip install researchpy"
   ]
  },
  {
   "cell_type": "code",
   "execution_count": 34,
   "id": "511bf3ee",
   "metadata": {},
   "outputs": [],
   "source": [
    "import researchpy as rp"
   ]
  },
  {
   "cell_type": "markdown",
   "id": "0ff9a28e",
   "metadata": {},
   "source": [
    "#### Descriptive statistics of integer or float variables ####"
   ]
  },
  {
   "cell_type": "code",
   "execution_count": 37,
   "id": "a5bf52c4",
   "metadata": {},
   "outputs": [
    {
     "name": "stdout",
     "output_type": "stream",
     "text": [
      "\n",
      "\n"
     ]
    },
    {
     "data": {
      "text/html": [
       "<div>\n",
       "<style scoped>\n",
       "    .dataframe tbody tr th:only-of-type {\n",
       "        vertical-align: middle;\n",
       "    }\n",
       "\n",
       "    .dataframe tbody tr th {\n",
       "        vertical-align: top;\n",
       "    }\n",
       "\n",
       "    .dataframe thead th {\n",
       "        text-align: right;\n",
       "    }\n",
       "</style>\n",
       "<table border=\"1\" class=\"dataframe\">\n",
       "  <thead>\n",
       "    <tr style=\"text-align: right;\">\n",
       "      <th></th>\n",
       "      <th>Variable</th>\n",
       "      <th>N</th>\n",
       "      <th>Mean</th>\n",
       "      <th>SD</th>\n",
       "      <th>SE</th>\n",
       "      <th>95% Conf.</th>\n",
       "      <th>Interval</th>\n",
       "    </tr>\n",
       "  </thead>\n",
       "  <tbody>\n",
       "    <tr>\n",
       "      <th>0</th>\n",
       "      <td>total_bill</td>\n",
       "      <td>244.0</td>\n",
       "      <td>19.7859</td>\n",
       "      <td>8.9024</td>\n",
       "      <td>0.5699</td>\n",
       "      <td>18.6633</td>\n",
       "      <td>20.9086</td>\n",
       "    </tr>\n",
       "    <tr>\n",
       "      <th>1</th>\n",
       "      <td>tip</td>\n",
       "      <td>244.0</td>\n",
       "      <td>2.9983</td>\n",
       "      <td>1.3836</td>\n",
       "      <td>0.0886</td>\n",
       "      <td>2.8238</td>\n",
       "      <td>3.1728</td>\n",
       "    </tr>\n",
       "    <tr>\n",
       "      <th>2</th>\n",
       "      <td>size</td>\n",
       "      <td>244.0</td>\n",
       "      <td>2.5697</td>\n",
       "      <td>0.9511</td>\n",
       "      <td>0.0609</td>\n",
       "      <td>2.4497</td>\n",
       "      <td>2.6896</td>\n",
       "    </tr>\n",
       "  </tbody>\n",
       "</table>\n",
       "</div>"
      ],
      "text/plain": [
       "     Variable      N     Mean      SD      SE  95% Conf.  Interval\n",
       "0  total_bill  244.0  19.7859  8.9024  0.5699    18.6633   20.9086\n",
       "1         tip  244.0   2.9983  1.3836  0.0886     2.8238    3.1728\n",
       "2        size  244.0   2.5697  0.9511  0.0609     2.4497    2.6896"
      ]
     },
     "execution_count": 37,
     "metadata": {},
     "output_type": "execute_result"
    }
   ],
   "source": [
    "rp.summary_cont(df_t[['total_bill','tip','size']])"
   ]
  },
  {
   "cell_type": "markdown",
   "id": "2f33c10b",
   "metadata": {},
   "source": [
    "#### Class frequencies of categorical variables ####"
   ]
  },
  {
   "cell_type": "code",
   "execution_count": 40,
   "id": "ea9bf696",
   "metadata": {},
   "outputs": [
    {
     "data": {
      "text/html": [
       "<div>\n",
       "<style scoped>\n",
       "    .dataframe tbody tr th:only-of-type {\n",
       "        vertical-align: middle;\n",
       "    }\n",
       "\n",
       "    .dataframe tbody tr th {\n",
       "        vertical-align: top;\n",
       "    }\n",
       "\n",
       "    .dataframe thead th {\n",
       "        text-align: right;\n",
       "    }\n",
       "</style>\n",
       "<table border=\"1\" class=\"dataframe\">\n",
       "  <thead>\n",
       "    <tr style=\"text-align: right;\">\n",
       "      <th></th>\n",
       "      <th>Variable</th>\n",
       "      <th>Outcome</th>\n",
       "      <th>Count</th>\n",
       "      <th>Percent</th>\n",
       "    </tr>\n",
       "  </thead>\n",
       "  <tbody>\n",
       "    <tr>\n",
       "      <th>0</th>\n",
       "      <td>sex</td>\n",
       "      <td>Male</td>\n",
       "      <td>157</td>\n",
       "      <td>64.34</td>\n",
       "    </tr>\n",
       "    <tr>\n",
       "      <th>1</th>\n",
       "      <td></td>\n",
       "      <td>Female</td>\n",
       "      <td>87</td>\n",
       "      <td>35.66</td>\n",
       "    </tr>\n",
       "    <tr>\n",
       "      <th>2</th>\n",
       "      <td>smoker</td>\n",
       "      <td>No</td>\n",
       "      <td>151</td>\n",
       "      <td>61.89</td>\n",
       "    </tr>\n",
       "    <tr>\n",
       "      <th>3</th>\n",
       "      <td></td>\n",
       "      <td>Yes</td>\n",
       "      <td>93</td>\n",
       "      <td>38.11</td>\n",
       "    </tr>\n",
       "    <tr>\n",
       "      <th>4</th>\n",
       "      <td>day</td>\n",
       "      <td>Sat</td>\n",
       "      <td>87</td>\n",
       "      <td>35.66</td>\n",
       "    </tr>\n",
       "    <tr>\n",
       "      <th>5</th>\n",
       "      <td></td>\n",
       "      <td>Sun</td>\n",
       "      <td>76</td>\n",
       "      <td>31.15</td>\n",
       "    </tr>\n",
       "    <tr>\n",
       "      <th>6</th>\n",
       "      <td></td>\n",
       "      <td>Thur</td>\n",
       "      <td>62</td>\n",
       "      <td>25.41</td>\n",
       "    </tr>\n",
       "    <tr>\n",
       "      <th>7</th>\n",
       "      <td></td>\n",
       "      <td>Fri</td>\n",
       "      <td>19</td>\n",
       "      <td>7.79</td>\n",
       "    </tr>\n",
       "  </tbody>\n",
       "</table>\n",
       "</div>"
      ],
      "text/plain": [
       "  Variable Outcome  Count  Percent\n",
       "0      sex    Male    157    64.34\n",
       "1           Female     87    35.66\n",
       "2   smoker      No    151    61.89\n",
       "3              Yes     93    38.11\n",
       "4      day     Sat     87    35.66\n",
       "5              Sun     76    31.15\n",
       "6             Thur     62    25.41\n",
       "7              Fri     19     7.79"
      ]
     },
     "execution_count": 40,
     "metadata": {},
     "output_type": "execute_result"
    }
   ],
   "source": [
    "rp.summary_cat(df_t[['sex','smoker','day']])"
   ]
  },
  {
   "cell_type": "code",
   "execution_count": 42,
   "id": "e8edb2d5",
   "metadata": {},
   "outputs": [
    {
     "data": {
      "text/html": [
       "<div>\n",
       "<style scoped>\n",
       "    .dataframe tbody tr th:only-of-type {\n",
       "        vertical-align: middle;\n",
       "    }\n",
       "\n",
       "    .dataframe tbody tr th {\n",
       "        vertical-align: top;\n",
       "    }\n",
       "\n",
       "    .dataframe thead th {\n",
       "        text-align: right;\n",
       "    }\n",
       "</style>\n",
       "<table border=\"1\" class=\"dataframe\">\n",
       "  <thead>\n",
       "    <tr style=\"text-align: right;\">\n",
       "      <th></th>\n",
       "      <th>tip</th>\n",
       "      <th>total_bill</th>\n",
       "    </tr>\n",
       "  </thead>\n",
       "  <tbody>\n",
       "    <tr>\n",
       "      <th>tip</th>\n",
       "      <td>1.914455</td>\n",
       "      <td>8.323502</td>\n",
       "    </tr>\n",
       "    <tr>\n",
       "      <th>total_bill</th>\n",
       "      <td>8.323502</td>\n",
       "      <td>79.252939</td>\n",
       "    </tr>\n",
       "  </tbody>\n",
       "</table>\n",
       "</div>"
      ],
      "text/plain": [
       "                 tip  total_bill\n",
       "tip         1.914455    8.323502\n",
       "total_bill  8.323502   79.252939"
      ]
     },
     "execution_count": 42,
     "metadata": {},
     "output_type": "execute_result"
    }
   ],
   "source": [
    "df_t[['tip','total_bill']].cov()"
   ]
  },
  {
   "cell_type": "code",
   "execution_count": 43,
   "id": "103078ec",
   "metadata": {},
   "outputs": [
    {
     "data": {
      "text/html": [
       "<div>\n",
       "<style scoped>\n",
       "    .dataframe tbody tr th:only-of-type {\n",
       "        vertical-align: middle;\n",
       "    }\n",
       "\n",
       "    .dataframe tbody tr th {\n",
       "        vertical-align: top;\n",
       "    }\n",
       "\n",
       "    .dataframe thead th {\n",
       "        text-align: right;\n",
       "    }\n",
       "</style>\n",
       "<table border=\"1\" class=\"dataframe\">\n",
       "  <thead>\n",
       "    <tr style=\"text-align: right;\">\n",
       "      <th></th>\n",
       "      <th>tip</th>\n",
       "      <th>total_bill</th>\n",
       "    </tr>\n",
       "  </thead>\n",
       "  <tbody>\n",
       "    <tr>\n",
       "      <th>tip</th>\n",
       "      <td>1.000000</td>\n",
       "      <td>0.675734</td>\n",
       "    </tr>\n",
       "    <tr>\n",
       "      <th>total_bill</th>\n",
       "      <td>0.675734</td>\n",
       "      <td>1.000000</td>\n",
       "    </tr>\n",
       "  </tbody>\n",
       "</table>\n",
       "</div>"
      ],
      "text/plain": [
       "                 tip  total_bill\n",
       "tip         1.000000    0.675734\n",
       "total_bill  0.675734    1.000000"
      ]
     },
     "execution_count": 43,
     "metadata": {},
     "output_type": "execute_result"
    }
   ],
   "source": [
    "df_t[['tip','total_bill']].corr()"
   ]
  },
  {
   "cell_type": "markdown",
   "id": "6c1d8e68",
   "metadata": {},
   "source": [
    "#### Confidence Intervals ####"
   ]
  },
  {
   "cell_type": "code",
   "execution_count": 44,
   "id": "b12c92d6",
   "metadata": {},
   "outputs": [],
   "source": [
    "import numpy as np"
   ]
  },
  {
   "cell_type": "code",
   "execution_count": 45,
   "id": "966d655c",
   "metadata": {},
   "outputs": [],
   "source": [
    "prices=np.random.randint(0, 100, 1000)"
   ]
  },
  {
   "cell_type": "code",
   "execution_count": 47,
   "id": "56875779",
   "metadata": {},
   "outputs": [
    {
     "data": {
      "text/plain": [
       "49.728"
      ]
     },
     "execution_count": 47,
     "metadata": {},
     "output_type": "execute_result"
    }
   ],
   "source": [
    "prices.mean()"
   ]
  },
  {
   "cell_type": "markdown",
   "id": "36c33de3",
   "metadata": {},
   "source": [
    "Let's find the confidence intervals of price."
   ]
  },
  {
   "cell_type": "code",
   "execution_count": 48,
   "id": "63ea1a60",
   "metadata": {},
   "outputs": [],
   "source": [
    "import statsmodels.stats.api as sms"
   ]
  },
  {
   "cell_type": "code",
   "execution_count": 50,
   "id": "fb7e328c",
   "metadata": {},
   "outputs": [
    {
     "data": {
      "text/plain": [
       "(47.93971306008079, 51.51628693991921)"
      ]
     },
     "execution_count": 50,
     "metadata": {},
     "output_type": "execute_result"
    }
   ],
   "source": [
    "sms.DescrStatsW(prices).tconfint_mean()"
   ]
  },
  {
   "cell_type": "markdown",
   "id": "89a7730c",
   "metadata": {},
   "source": [
    "I mean, customers will able to spend money for this product between 47.93$ and 51.51$ in %95."
   ]
  },
  {
   "cell_type": "markdown",
   "id": "a4ea7154",
   "metadata": {},
   "source": [
    "### Introduction to probability and distribution. ###"
   ]
  },
  {
   "cell_type": "markdown",
   "id": "b551e42c",
   "metadata": {},
   "source": [
    "#### Discrete distribution functions ####"
   ]
  },
  {
   "cell_type": "markdown",
   "id": "1f94703a",
   "metadata": {},
   "source": [
    "* Bernoulli Distribution- It describes the probability of achieving a “success” or “failure” from a Bernoulli trial. A Bernoulli trial is an event that has only two possible outcomes (success or failure)."
   ]
  },
  {
   "cell_type": "markdown",
   "id": "32e28e0f",
   "metadata": {},
   "source": [
    "* Binomial Distribution - Binomial distribution summarizes the number of trials, or observations when each trial has the same probability of attaining one particular value."
   ]
  },
  {
   "cell_type": "markdown",
   "id": "31303d20",
   "metadata": {},
   "source": [
    "* Poisson Distribution - The Poisson distribution is a discrete probability distribution. As you might have already guessed, the Poisson distribution is a discrete probability distribution which indicates how many times an event is likely to occur within a specific time period."
   ]
  },
  {
   "cell_type": "markdown",
   "id": "a55ca572",
   "metadata": {},
   "source": [
    "#### Continuous distribution functions ####"
   ]
  },
  {
   "cell_type": "markdown",
   "id": "7581332d",
   "metadata": {},
   "source": [
    "* Normal Distribution - A normal distribution has a probability distribution that is centered around the mean. "
   ]
  },
  {
   "cell_type": "markdown",
   "id": "fcb40d22",
   "metadata": {},
   "source": [
    "* Uniform Distribution"
   ]
  },
  {
   "cell_type": "markdown",
   "id": "e6c7b222",
   "metadata": {},
   "source": [
    "* Cauchy Distribution"
   ]
  },
  {
   "cell_type": "markdown",
   "id": "ef0dd98e",
   "metadata": {},
   "source": [
    "#### Discrete distribution functions ####"
   ]
  },
  {
   "cell_type": "code",
   "execution_count": 60,
   "id": "84d65bea",
   "metadata": {},
   "outputs": [],
   "source": [
    "from scipy.stats import bernoulli"
   ]
  },
  {
   "cell_type": "code",
   "execution_count": 61,
   "id": "95dc7641",
   "metadata": {},
   "outputs": [],
   "source": [
    "p=0.4          #----probablity"
   ]
  },
  {
   "cell_type": "code",
   "execution_count": 62,
   "id": "93ef6bcf",
   "metadata": {},
   "outputs": [],
   "source": [
    "rv=bernoulli(p)"
   ]
  },
  {
   "cell_type": "code",
   "execution_count": 63,
   "id": "7365b01b",
   "metadata": {},
   "outputs": [
    {
     "data": {
      "text/plain": [
       "0.4"
      ]
     },
     "execution_count": 63,
     "metadata": {},
     "output_type": "execute_result"
    }
   ],
   "source": [
    "rv.pmf(k=1)    #---- true case"
   ]
  },
  {
   "cell_type": "code",
   "execution_count": 64,
   "id": "d83b6423",
   "metadata": {},
   "outputs": [
    {
     "data": {
      "text/plain": [
       "0.6"
      ]
     },
     "execution_count": 64,
     "metadata": {},
     "output_type": "execute_result"
    }
   ],
   "source": [
    "rv.pmf(k=0)   #-----false case"
   ]
  },
  {
   "cell_type": "markdown",
   "id": "0aa71f08",
   "metadata": {},
   "source": [
    "#### Law Of Large Numbers ####"
   ]
  },
  {
   "cell_type": "code",
   "execution_count": 65,
   "id": "6466949c",
   "metadata": {},
   "outputs": [],
   "source": [
    "import numpy as np"
   ]
  },
  {
   "cell_type": "code",
   "execution_count": 94,
   "id": "2d38e9d2",
   "metadata": {},
   "outputs": [],
   "source": [
    "rng=np.random.RandomState(25)"
   ]
  },
  {
   "cell_type": "code",
   "execution_count": 97,
   "id": "bad0fc15",
   "metadata": {},
   "outputs": [
    {
     "name": "stdout",
     "output_type": "stream",
     "text": [
      "1.0 ----- [1] ----- 1\n",
      "0.75 ----- [1 1 0 1] ----- 4\n",
      "0.5555555555555556 ----- [1 1 0 1 1 0 0 0 1] ----- 9\n",
      "0.4375 ----- [0 0 1 1 0 0 0 1 1 1 0 0 0 1 1 0] ----- 16\n",
      "0.64 ----- [1 1 1 1 0 0 1 0 0 1 1 1 1 0 1 1 0 1 1 1 0 1 0 1 0] ----- 25\n",
      "0.6388888888888888 ----- [1 1 1 0 1 0 0 0 0 0 1 1 0 0 0 1 1 1 1 1 1 1 1 1 1 1 1 0 1 0 1 0 0 1 1 1] ----- 36\n",
      "0.4489795918367347 ----- [1 0 1 0 1 1 1 0 1 0 0 1 1 1 0 0 1 0 0 0 0 1 0 0 0 0 1 1 1 0 0 0 0 0 0 1 0\n",
      " 0 0 0 1 1 1 0 0 1 1 1 1] ----- 49\n",
      "0.484375 ----- [0 1 1 0 0 0 1 0 0 1 0 0 1 0 1 0 1 0 1 1 0 0 0 0 0 0 0 1 1 0 1 0 1 0 0 1 0\n",
      " 0 1 1 1 0 1 0 1 0 0 1 0 1 1 0 0 1 1 1 1 0 1 0 1 1 1 1] ----- 64\n",
      "0.5308641975308642 ----- [1 0 1 0 1 1 1 1 1 0 1 1 1 0 1 1 0 0 0 1 1 1 0 0 1 0 0 0 1 1 1 1 0 0 0 0 1\n",
      " 0 0 1 1 1 1 0 1 1 1 1 0 0 0 0 0 0 0 0 1 0 0 1 0 1 1 1 1 1 1 0 1 0 1 1 1 0\n",
      " 0 0 0 0 1 1 0] ----- 81\n",
      "0.58 ----- [1 1 0 1 1 1 0 1 1 1 1 0 1 0 0 1 1 0 0 1 0 1 1 0 1 0 0 1 0 1 0 0 1 0 1 0 1\n",
      " 1 0 0 0 1 0 0 0 1 0 0 1 0 1 0 1 0 1 0 1 1 0 1 1 0 1 0 0 1 1 0 0 1 1 1 0 1\n",
      " 0 1 0 1 1 1 1 1 1 0 1 1 1 1 0 0 1 1 1 1 1 1 0 1 1 0] ----- 100\n",
      "0.5289256198347108 ----- [1 1 0 1 0 1 0 0 1 1 1 1 0 0 0 1 0 0 0 1 0 1 1 1 1 1 1 0 1 1 1 0 0 1 0 1 1\n",
      " 0 0 0 1 0 1 1 1 1 0 1 0 1 1 1 0 0 0 0 1 1 0 1 0 1 0 0 0 1 1 0 0 0 1 1 0 1\n",
      " 1 1 0 0 0 1 0 0 0 1 0 0 1 1 1 1 1 1 0 1 1 0 1 1 1 1 1 1 1 1 0 0 1 1 0 0 0\n",
      " 0 0 0 0 0 0 1 0 1 0] ----- 121\n",
      "0.3958333333333333 ----- [0 0 1 0 0 1 0 1 0 1 0 0 0 0 1 0 0 1 0 1 1 0 1 1 0 1 1 0 0 0 1 1 1 1 0 0 0\n",
      " 0 0 0 1 1 0 1 0 0 1 0 1 1 0 1 0 0 0 0 0 0 0 0 1 0 0 0 0 0 0 0 1 1 0 1 0 1\n",
      " 1 0 0 0 0 0 0 1 1 1 0 0 1 0 1 1 0 0 0 0 1 0 1 1 1 1 0 1 0 1 0 0 0 0 0 0 0\n",
      " 0 0 0 0 1 0 0 1 0 0 0 1 1 1 0 0 1 1 0 0 1 0 1 0 1 1 1 1 1 0 1 0 0] ----- 144\n",
      "0.5443786982248521 ----- [1 1 1 0 1 1 1 1 1 0 0 1 1 1 0 1 1 0 1 1 0 0 0 0 1 1 1 1 0 1 1 0 1 1 1 0 0\n",
      " 1 0 0 1 1 0 1 0 1 0 0 1 0 0 1 0 1 1 1 1 0 0 1 0 0 1 1 0 0 1 1 0 0 1 1 0 0\n",
      " 1 1 0 0 1 1 0 0 0 1 0 1 0 0 0 0 0 1 0 1 0 0 1 0 0 1 0 1 0 0 1 0 0 0 0 0 1\n",
      " 0 0 1 1 0 0 1 1 1 0 1 1 1 1 1 1 1 1 0 1 1 1 1 1 0 0 1 1 1 0 1 0 1 1 1 0 1\n",
      " 0 0 1 1 1 0 1 0 0 0 1 1 0 1 0 1 0 0 1 1 1] ----- 169\n",
      "0.5663265306122449 ----- [1 0 1 1 1 0 0 1 1 0 1 1 1 0 1 0 0 1 0 0 0 1 1 1 0 0 0 1 0 1 1 1 1 1 1 0 0\n",
      " 1 1 1 0 0 1 0 0 0 1 0 0 0 1 1 0 0 0 1 0 0 0 0 1 1 0 0 0 1 1 0 1 1 0 0 1 1\n",
      " 0 0 0 1 1 0 1 1 1 1 1 1 0 1 0 1 1 1 1 1 1 1 0 1 1 0 1 1 0 0 1 1 1 1 1 1 1\n",
      " 0 0 0 0 1 0 0 0 0 0 1 1 0 1 0 0 1 1 1 1 0 0 0 1 1 0 1 0 1 1 0 1 0 0 1 1 1\n",
      " 1 1 1 1 1 1 0 1 1 0 0 1 0 1 1 1 1 0 0 1 0 0 1 1 1 0 0 1 0 1 1 0 0 1 0 1 0\n",
      " 0 1 1 0 1 1 1 1 0 1 1] ----- 196\n",
      "0.5511111111111111 ----- [0 0 0 0 0 0 1 0 1 1 1 1 0 0 0 0 1 0 0 0 1 1 0 1 1 0 1 0 1 1 0 1 0 0 1 0 0\n",
      " 1 1 1 0 1 1 1 0 1 1 1 0 1 0 1 0 0 0 1 1 0 0 1 0 1 0 1 0 0 1 1 1 1 0 1 1 1\n",
      " 1 0 1 1 0 1 0 0 1 1 1 1 1 1 1 0 0 1 1 1 1 1 0 0 1 0 1 1 0 1 0 0 1 0 0 0 0\n",
      " 1 1 1 1 0 1 1 1 1 1 0 0 0 0 1 1 0 1 0 0 1 1 0 0 1 0 0 1 1 0 1 0 0 0 0 1 1\n",
      " 0 1 0 0 0 1 1 1 1 1 0 1 1 0 0 1 1 0 1 1 0 1 0 1 0 1 1 1 0 0 1 1 1 1 1 1 0\n",
      " 0 0 1 0 1 1 1 1 1 1 0 1 0 0 0 0 1 1 0 1 0 1 1 0 0 1 0 0 1 1 1 0 0 1 0 1 1\n",
      " 0 1 1] ----- 225\n",
      "0.5390625 ----- [1 1 0 1 1 0 0 1 1 1 1 0 1 1 0 1 0 1 0 1 1 1 1 0 0 1 1 1 0 1 0 0 1 1 1 0 1\n",
      " 0 1 0 0 1 1 1 1 0 1 0 0 1 0 0 1 0 1 1 0 0 0 1 0 1 1 1 1 0 1 0 1 0 0 0 0 1\n",
      " 1 1 1 0 0 1 0 1 1 0 0 1 0 0 1 0 1 1 1 1 1 1 1 1 1 0 1 1 1 0 1 0 0 1 1 1 0\n",
      " 0 0 0 0 0 1 1 1 1 0 0 0 0 1 0 0 1 0 0 1 1 0 0 0 1 1 1 0 0 0 1 0 0 1 1 0 0\n",
      " 0 1 0 1 0 1 1 0 1 1 0 1 1 0 0 1 1 0 1 1 0 1 1 0 1 0 0 1 1 1 1 0 1 0 0 1 1\n",
      " 1 1 0 1 0 1 0 0 0 1 0 1 0 1 1 1 1 1 0 0 1 0 1 0 0 1 1 0 0 0 1 1 1 1 0 1 1\n",
      " 1 1 0 1 0 0 0 0 1 1 1 1 1 0 0 1 0 1 0 0 1 1 1 0 0 0 0 0 1 0 0 1 0 0] ----- 256\n",
      "0.5155709342560554 ----- [0 0 1 1 0 0 0 0 1 1 1 0 0 1 0 0 0 1 1 1 1 1 1 1 0 1 1 0 1 1 1 0 0 1 1 0 1\n",
      " 1 0 1 1 1 0 1 1 0 1 1 0 0 1 1 0 0 1 1 1 1 0 0 0 1 0 1 1 0 0 0 1 0 0 1 1 1\n",
      " 0 0 1 1 0 1 1 0 0 0 1 0 1 1 1 1 0 0 1 0 1 1 1 1 0 1 0 1 1 1 0 1 1 1 0 0 1\n",
      " 1 1 1 1 0 1 1 1 0 1 0 0 1 0 1 0 1 1 1 1 0 0 1 0 1 1 0 1 0 1 1 0 0 1 1 1 0\n",
      " 1 0 1 0 1 1 0 0 1 1 0 0 1 1 1 0 0 0 1 1 0 1 0 1 0 0 0 0 1 1 1 0 1 0 0 1 1\n",
      " 0 1 1 0 1 0 0 0 1 0 1 0 1 1 0 1 0 0 1 0 0 0 0 1 0 0 0 0 0 1 1 1 0 1 0 1 0\n",
      " 0 0 0 1 1 0 1 1 0 0 0 0 0 0 0 0 0 0 0 1 0 1 1 0 0 0 0 0 0 0 0 0 1 0 0 1 1\n",
      " 0 0 0 0 1 1 1 1 1 1 1 0 0 1 1 1 1 1 0 1 0 0 1 0 0 0 1 1 1 1] ----- 289\n",
      "0.4876543209876543 ----- [0 1 1 1 1 0 1 0 1 0 1 1 0 0 0 0 0 1 1 0 1 1 1 1 0 0 1 1 1 1 1 0 1 0 0 0 1\n",
      " 1 0 0 0 0 1 0 0 1 0 1 0 0 0 0 0 0 1 1 0 1 0 0 1 0 0 0 1 1 0 0 1 1 0 1 0 0\n",
      " 1 1 0 1 1 1 1 0 1 1 1 0 1 0 1 1 0 1 1 1 0 1 1 1 0 1 0 0 1 0 1 1 0 1 0 0 0\n",
      " 0 1 0 0 1 0 1 0 1 1 0 1 0 0 1 0 0 0 0 1 1 0 0 1 1 0 0 0 0 1 1 1 0 1 1 0 0\n",
      " 1 0 0 0 1 1 1 1 0 0 1 0 0 0 1 1 0 1 0 0 1 1 1 1 0 0 0 1 1 0 1 0 1 1 1 1 1\n",
      " 0 0 0 1 0 0 0 0 1 0 1 1 0 1 0 1 0 0 1 0 1 0 0 1 1 0 1 0 0 0 0 0 1 1 1 1 1\n",
      " 0 1 1 0 1 0 0 1 0 1 1 0 0 0 0 0 1 0 0 0 1 1 0 0 1 1 0 0 1 0 0 1 1 0 1 0 0\n",
      " 0 0 0 1 1 1 1 1 1 1 1 0 0 1 1 1 0 1 1 0 0 0 0 1 0 0 1 1 1 0 0 0 0 1 1 0 1\n",
      " 1 1 0 0 0 1 1 1 0 0 1 0 0 0 1 0 1 0 0 1 0 0 1 1 1 0 0 1] ----- 324\n",
      "0.5069252077562327 ----- [0 0 1 1 0 0 1 1 0 1 0 0 0 1 0 1 0 1 0 0 0 0 0 0 1 1 1 0 0 1 1 1 0 0 1 0 1\n",
      " 0 0 1 1 0 0 1 1 1 0 0 0 1 1 1 0 0 1 1 1 0 1 1 0 1 1 1 0 1 0 0 0 0 0 1 1 0\n",
      " 1 1 0 0 0 0 0 0 0 1 1 1 0 0 0 0 0 0 0 0 1 0 1 1 1 0 0 0 0 1 0 1 0 0 0 1 1\n",
      " 0 1 0 1 1 0 1 1 1 1 1 1 1 0 1 0 1 1 1 1 0 1 0 0 0 1 1 0 1 1 0 1 1 1 1 1 0\n",
      " 1 0 0 1 0 0 1 0 1 0 1 1 0 1 1 1 0 1 0 1 0 0 1 0 0 1 0 1 0 1 1 1 0 0 0 1 1\n",
      " 1 1 1 1 0 0 0 1 1 1 0 1 0 1 1 1 1 1 1 1 1 1 0 1 1 0 0 0 1 0 1 0 1 0 0 0 1\n",
      " 0 1 0 1 0 1 1 0 1 0 1 1 0 1 1 0 1 0 1 0 1 1 1 1 0 1 1 0 0 1 1 0 0 1 1 0 0\n",
      " 0 1 0 0 0 0 0 0 1 0 1 0 0 1 0 0 1 1 0 0 0 0 0 0 1 0 1 0 1 0 0 0 1 0 1 1 1\n",
      " 0 0 1 1 1 1 0 0 0 1 1 1 1 0 0 0 1 0 1 0 1 0 0 0 1 0 1 0 1 0 1 1 1 1 0 0 0\n",
      " 0 1 1 1 0 1 1 1 0 1 1 1 1 1 0 1 0 0 0 0 1 0 0 0 1 1 1 0] ----- 361\n",
      "0.495 ----- [1 0 0 1 0 0 0 1 0 0 1 0 0 0 1 0 1 0 0 1 1 1 1 0 1 0 0 0 0 1 1 1 0 1 1 0 0\n",
      " 1 0 0 0 0 0 1 0 1 0 0 0 0 1 1 0 0 1 0 0 0 1 1 1 1 0 1 0 1 0 1 1 1 0 1 0 1\n",
      " 1 0 1 1 1 0 0 0 1 0 1 1 1 1 0 0 1 1 1 1 0 1 0 0 0 0 0 1 1 1 0 0 0 1 0 0 1\n",
      " 0 1 0 1 1 0 0 0 1 0 0 1 0 0 1 1 0 0 1 1 1 1 0 0 1 1 0 0 0 0 1 1 0 1 1 1 1\n",
      " 1 1 0 1 1 1 1 1 1 0 1 0 1 0 0 1 1 1 0 1 1 1 0 1 1 1 0 1 0 0 1 0 1 1 1 1 0\n",
      " 0 0 0 0 1 1 0 0 0 0 1 1 0 1 0 0 0 1 0 0 0 1 0 1 0 0 0 1 1 0 0 1 0 1 0 1 0\n",
      " 0 1 0 0 0 1 0 1 1 1 1 0 1 1 0 0 0 1 0 0 1 1 0 1 0 1 0 1 1 1 0 0 0 0 0 0 1\n",
      " 1 0 1 1 1 1 0 1 1 1 0 0 0 0 1 0 1 1 0 0 1 1 1 1 1 1 0 0 1 1 0 0 0 0 0 0 0\n",
      " 0 1 1 0 1 1 1 1 0 0 1 1 0 0 1 1 1 0 0 1 1 0 0 0 0 0 1 0 1 0 1 0 0 0 0 0 0\n",
      " 1 0 0 0 1 1 0 1 1 1 0 0 0 0 1 1 0 0 1 1 1 1 1 1 1 1 1 1 0 1 0 1 0 1 0 0 1\n",
      " 1 1 1 1 0 1 1 0 1 1 0 0 1 0 0 0 1 1 0 1 1 0 0 0 0 1 1 0 0 0] ----- 400\n"
     ]
    }
   ],
   "source": [
    "for i in np.arange(1,21):\n",
    "    experiments=i**2\n",
    "    front_back=rng.randint(0,2, size=experiments)\n",
    "    front_probablty=np.mean(front_back)\n",
    "    print(front_probablty,'-----', front_back,'-----', experiments)"
   ]
  },
  {
   "cell_type": "markdown",
   "id": "f13b470d",
   "metadata": {},
   "source": [
    "Ex: p=0.001 n=200 If one hundred people see an advertisement, what is the probability of 1,3 or 5 clicks."
   ]
  },
  {
   "cell_type": "code",
   "execution_count": 112,
   "id": "838388e6",
   "metadata": {},
   "outputs": [],
   "source": [
    "p=0.001"
   ]
  },
  {
   "cell_type": "code",
   "execution_count": 113,
   "id": "7a0531a2",
   "metadata": {},
   "outputs": [],
   "source": [
    "n=200"
   ]
  },
  {
   "cell_type": "code",
   "execution_count": 114,
   "id": "edb2c7a5",
   "metadata": {},
   "outputs": [],
   "source": [
    "from scipy.stats import binom"
   ]
  },
  {
   "cell_type": "code",
   "execution_count": 115,
   "id": "eab9d0cd",
   "metadata": {},
   "outputs": [],
   "source": [
    "rv=binom(n, p)"
   ]
  },
  {
   "cell_type": "code",
   "execution_count": 116,
   "id": "d384251f",
   "metadata": {},
   "outputs": [],
   "source": [
    "prop_1=rv.pmf(1)"
   ]
  },
  {
   "cell_type": "code",
   "execution_count": 117,
   "id": "9a1cfe7d",
   "metadata": {},
   "outputs": [
    {
     "name": "stdout",
     "output_type": "stream",
     "text": [
      "0.16389365955527033\n"
     ]
    }
   ],
   "source": [
    "print(prop_1)"
   ]
  },
  {
   "cell_type": "code",
   "execution_count": 118,
   "id": "3a5e4761",
   "metadata": {},
   "outputs": [],
   "source": [
    "prop_2=rv.pmf(3)"
   ]
  },
  {
   "cell_type": "code",
   "execution_count": 119,
   "id": "5425825d",
   "metadata": {},
   "outputs": [
    {
     "name": "stdout",
     "output_type": "stream",
     "text": [
      "0.0010784454748036095\n"
     ]
    }
   ],
   "source": [
    "print(prop_2)"
   ]
  },
  {
   "cell_type": "code",
   "execution_count": 120,
   "id": "8e723fba",
   "metadata": {},
   "outputs": [],
   "source": [
    "prop_3=rv.pmf(5)"
   ]
  },
  {
   "cell_type": "code",
   "execution_count": 121,
   "id": "5feb1d23",
   "metadata": {},
   "outputs": [
    {
     "name": "stdout",
     "output_type": "stream",
     "text": [
      "2.0862171818022143e-06\n"
     ]
    }
   ],
   "source": [
    "print(prop_3)"
   ]
  },
  {
   "cell_type": "markdown",
   "id": "1aade94c",
   "metadata": {},
   "source": [
    "Ex: lambda=0.1 -------What is there the probability of any failture, 5 failture or 10 failture."
   ]
  },
  {
   "cell_type": "code",
   "execution_count": 123,
   "id": "80152327",
   "metadata": {},
   "outputs": [],
   "source": [
    "from scipy.stats import poisson"
   ]
  },
  {
   "cell_type": "code",
   "execution_count": 124,
   "id": "236d7196",
   "metadata": {},
   "outputs": [],
   "source": [
    "rv=poisson(mu=0.1)"
   ]
  },
  {
   "cell_type": "code",
   "execution_count": 125,
   "id": "11492e2b",
   "metadata": {},
   "outputs": [
    {
     "data": {
      "text/plain": [
       "0.9048374180359595"
      ]
     },
     "execution_count": 125,
     "metadata": {},
     "output_type": "execute_result"
    }
   ],
   "source": [
    "rv.pmf(k=0)"
   ]
  },
  {
   "cell_type": "code",
   "execution_count": 126,
   "id": "81f72127",
   "metadata": {},
   "outputs": [
    {
     "data": {
      "text/plain": [
       "7.54031181696634e-08"
      ]
     },
     "execution_count": 126,
     "metadata": {},
     "output_type": "execute_result"
    }
   ],
   "source": [
    "rv.pmf(k=5)"
   ]
  },
  {
   "cell_type": "code",
   "execution_count": 127,
   "id": "3e161363",
   "metadata": {},
   "outputs": [
    {
     "data": {
      "text/plain": [
       "2.493489357462418e-17"
      ]
     },
     "execution_count": 127,
     "metadata": {},
     "output_type": "execute_result"
    }
   ],
   "source": [
    "rv.pmf(k=10)"
   ]
  },
  {
   "cell_type": "markdown",
   "id": "bc38899a",
   "metadata": {},
   "source": [
    "#### Continuous distribution functions ####"
   ]
  },
  {
   "cell_type": "markdown",
   "id": "0221fec3",
   "metadata": {},
   "source": [
    "Ex: Amount of sales=80K and Standard deviation=5K\n",
    "    What is the probability of sales more than 90K."
   ]
  },
  {
   "cell_type": "code",
   "execution_count": 132,
   "id": "01d5e1ac",
   "metadata": {},
   "outputs": [],
   "source": [
    "from scipy.stats import norm"
   ]
  },
  {
   "cell_type": "code",
   "execution_count": 133,
   "id": "665ea96a",
   "metadata": {},
   "outputs": [
    {
     "data": {
      "text/plain": [
       "0.02275013194817921"
      ]
     },
     "execution_count": 133,
     "metadata": {},
     "output_type": "execute_result"
    }
   ],
   "source": [
    "1-norm.cdf(90,80,5)"
   ]
  },
  {
   "cell_type": "markdown",
   "id": "32719773",
   "metadata": {},
   "source": [
    "What is the probability of sales more than 70K."
   ]
  },
  {
   "cell_type": "code",
   "execution_count": 135,
   "id": "2406c2a5",
   "metadata": {},
   "outputs": [
    {
     "data": {
      "text/plain": [
       "0.9772498680518208"
      ]
     },
     "execution_count": 135,
     "metadata": {},
     "output_type": "execute_result"
    }
   ],
   "source": [
    "1-norm.cdf(70,80,5)"
   ]
  },
  {
   "cell_type": "markdown",
   "id": "a5f649ec",
   "metadata": {},
   "source": [
    "What is the probability of sales smaller than 73K"
   ]
  },
  {
   "cell_type": "code",
   "execution_count": 137,
   "id": "ac911166",
   "metadata": {},
   "outputs": [
    {
     "data": {
      "text/plain": [
       "0.08075665923377107"
      ]
     },
     "execution_count": 137,
     "metadata": {},
     "output_type": "execute_result"
    }
   ],
   "source": [
    "norm.cdf(73,80,5)"
   ]
  },
  {
   "cell_type": "markdown",
   "id": "5d4c8225",
   "metadata": {},
   "source": [
    "What is the probability of sales between 85K and 90K."
   ]
  },
  {
   "cell_type": "code",
   "execution_count": 139,
   "id": "152d2e87",
   "metadata": {},
   "outputs": [
    {
     "data": {
      "text/plain": [
       "0.9772498680518208"
      ]
     },
     "execution_count": 139,
     "metadata": {},
     "output_type": "execute_result"
    }
   ],
   "source": [
    "norm.cdf(90,80,5)"
   ]
  },
  {
   "cell_type": "code",
   "execution_count": 140,
   "id": "94f25c81",
   "metadata": {},
   "outputs": [
    {
     "data": {
      "text/plain": [
       "0.8413447460685429"
      ]
     },
     "execution_count": 140,
     "metadata": {},
     "output_type": "execute_result"
    }
   ],
   "source": [
    "norm.cdf(85,80,5)"
   ]
  },
  {
   "cell_type": "code",
   "execution_count": 141,
   "id": "ac0375e1",
   "metadata": {},
   "outputs": [
    {
     "data": {
      "text/plain": [
       "0.13590512198327787"
      ]
     },
     "execution_count": 141,
     "metadata": {},
     "output_type": "execute_result"
    }
   ],
   "source": [
    "norm.cdf(90,80,5)-norm.cdf(85,80,5)"
   ]
  },
  {
   "cell_type": "markdown",
   "id": "3b5b0cd9",
   "metadata": {},
   "source": [
    "#### Hypothesis Testing ####"
   ]
  },
  {
   "cell_type": "markdown",
   "id": "2c2ded3f",
   "metadata": {},
   "source": [
    "Hypothesis testing is a statistical method to determine whether a hypothesis that you have holds true or not"
   ]
  },
  {
   "cell_type": "markdown",
   "id": "9d307940",
   "metadata": {},
   "source": [
    "Step-1 - "
   ]
  },
  {
   "cell_type": "markdown",
   "id": "189d1290",
   "metadata": {},
   "source": [
    "Step-2 -"
   ]
  },
  {
   "cell_type": "markdown",
   "id": "0addd70a",
   "metadata": {},
   "source": [
    "Step-3 -"
   ]
  },
  {
   "cell_type": "markdown",
   "id": "15fcfb94",
   "metadata": {},
   "source": [
    "Step-4 -"
   ]
  },
  {
   "cell_type": "markdown",
   "id": "80182159",
   "metadata": {},
   "source": [
    "Step-5 -"
   ]
  },
  {
   "cell_type": "markdown",
   "id": "9ac8d61d",
   "metadata": {},
   "source": [
    "#### Types of Hypothesis #### "
   ]
  },
  {
   "cell_type": "markdown",
   "id": "16e40cb4",
   "metadata": {},
   "source": [
    "H0 = Main Hypothesis H1 = Alternative Hypothesis"
   ]
  },
  {
   "cell_type": "markdown",
   "id": "fa6239e3",
   "metadata": {},
   "source": [
    "#### P- Value ####"
   ]
  },
  {
   "cell_type": "markdown",
   "id": "a6ba1b9f",
   "metadata": {},
   "source": [
    "p-Value is a measure of how likely is that the observed data would have occurred by random chance"
   ]
  },
  {
   "cell_type": "markdown",
   "id": "a53e130d",
   "metadata": {},
   "source": [
    "If p-Value is smaller than 0.05, H0 is rejected by us."
   ]
  },
  {
   "cell_type": "markdown",
   "id": "220e5123",
   "metadata": {},
   "source": [
    "#### One Sample T-test - (Parametric Test) ####"
   ]
  },
  {
   "cell_type": "markdown",
   "id": "f59ee67d",
   "metadata": {},
   "source": [
    "Statistical difference between a mean and a known or hypothesized value of the mean in the population"
   ]
  },
  {
   "cell_type": "markdown",
   "id": "086706cc",
   "metadata": {},
   "source": [
    "Hypomthesis of One Sample T-test is normally hypothesis"
   ]
  },
  {
   "cell_type": "markdown",
   "id": "288f7b74",
   "metadata": {},
   "source": [
    "We use z statistics and t statistics for one sample T-test,however which one should we use.So;"
   ]
  },
  {
   "cell_type": "markdown",
   "id": "b3da11b9",
   "metadata": {},
   "source": [
    "* If the population standard deviation is known, we should use 'z statistics'\n",
    "* If the population standard deviation is not known and n is bigger than 30,we should use 'z statistics'\n",
    "* If the population standard deviation is not known and n is smaller than 30,we should use 't statistics'"
   ]
  },
  {
   "cell_type": "markdown",
   "id": "7c5b8558",
   "metadata": {},
   "source": [
    "Ex :Our aim is be 40 second for each steps.We have a website with 5 steps.\n",
    "* mean=170 and We take twenty samples"
   ]
  },
  {
   "cell_type": "code",
   "execution_count": 4,
   "id": "b295fff7",
   "metadata": {},
   "outputs": [],
   "source": [
    "import pandas as pd\n",
    "import numpy as np\n",
    "import seaborn as sns"
   ]
  },
  {
   "cell_type": "code",
   "execution_count": 5,
   "id": "9031ab57",
   "metadata": {},
   "outputs": [],
   "source": [
    "m=np.array([12,45,855,17,99,170,65,71,52,96,85,45,5,91,120,198,178,165,141,200])"
   ]
  },
  {
   "cell_type": "code",
   "execution_count": 6,
   "id": "bd6c51e0",
   "metadata": {},
   "outputs": [],
   "source": [
    "df=pd.DataFrame(m)"
   ]
  },
  {
   "cell_type": "code",
   "execution_count": 7,
   "id": "1e12f1ef",
   "metadata": {},
   "outputs": [
    {
     "data": {
      "text/html": [
       "<div>\n",
       "<style scoped>\n",
       "    .dataframe tbody tr th:only-of-type {\n",
       "        vertical-align: middle;\n",
       "    }\n",
       "\n",
       "    .dataframe tbody tr th {\n",
       "        vertical-align: top;\n",
       "    }\n",
       "\n",
       "    .dataframe thead th {\n",
       "        text-align: right;\n",
       "    }\n",
       "</style>\n",
       "<table border=\"1\" class=\"dataframe\">\n",
       "  <thead>\n",
       "    <tr style=\"text-align: right;\">\n",
       "      <th></th>\n",
       "      <th>count</th>\n",
       "      <th>mean</th>\n",
       "      <th>std</th>\n",
       "      <th>min</th>\n",
       "      <th>25%</th>\n",
       "      <th>50%</th>\n",
       "      <th>75%</th>\n",
       "      <th>max</th>\n",
       "    </tr>\n",
       "  </thead>\n",
       "  <tbody>\n",
       "    <tr>\n",
       "      <th>0</th>\n",
       "      <td>20.0</td>\n",
       "      <td>135.5</td>\n",
       "      <td>180.075277</td>\n",
       "      <td>5.0</td>\n",
       "      <td>50.25</td>\n",
       "      <td>93.5</td>\n",
       "      <td>166.25</td>\n",
       "      <td>855.0</td>\n",
       "    </tr>\n",
       "  </tbody>\n",
       "</table>\n",
       "</div>"
      ],
      "text/plain": [
       "   count   mean         std  min    25%   50%     75%    max\n",
       "0   20.0  135.5  180.075277  5.0  50.25  93.5  166.25  855.0"
      ]
     },
     "execution_count": 7,
     "metadata": {},
     "output_type": "execute_result"
    }
   ],
   "source": [
    "df.describe().T"
   ]
  },
  {
   "cell_type": "code",
   "execution_count": 8,
   "id": "c67b670d",
   "metadata": {},
   "outputs": [],
   "source": [
    "import scipy.stats as stats"
   ]
  },
  {
   "cell_type": "code",
   "execution_count": 9,
   "id": "ab7d32ce",
   "metadata": {},
   "outputs": [
    {
     "data": {
      "text/plain": [
       "DescribeResult(nobs=20, minmax=(array([5]), array([855])), mean=array([135.5]), variance=array([32427.10526316]), skewness=array([3.36924377]), kurtosis=array([11.17238151]))"
      ]
     },
     "execution_count": 9,
     "metadata": {},
     "output_type": "execute_result"
    }
   ],
   "source": [
    "stats.describe(df)"
   ]
  },
  {
   "cell_type": "markdown",
   "id": "3b8e4f7d",
   "metadata": {},
   "source": [
    "### a-Check assumption of normality ###"
   ]
  },
  {
   "cell_type": "markdown",
   "id": "fd0a4fc6",
   "metadata": {},
   "source": [
    "Tests of normally hypothesis are Histogram and q-q plot graphically or Shapiro-wilks test in Hypothesis test."
   ]
  },
  {
   "cell_type": "markdown",
   "id": "ef47cb48",
   "metadata": {},
   "source": [
    "#### Histogram ####"
   ]
  },
  {
   "cell_type": "code",
   "execution_count": 55,
   "id": "4b173fce",
   "metadata": {},
   "outputs": [
    {
     "data": {
      "image/png": "[encoded data removed]",
      "text/plain": [
       "<Figure size 432x288 with 1 Axes>"
      ]
     },
     "metadata": {
      "needs_background": "light"
     },
     "output_type": "display_data"
    }
   ],
   "source": [
    "df.plot.hist();"
   ]
  },
  {
   "cell_type": "markdown",
   "id": "82d436fa",
   "metadata": {},
   "source": [
    "#### q-q plot ####"
   ]
  },
  {
   "cell_type": "code",
   "execution_count": 56,
   "id": "c64c548c",
   "metadata": {},
   "outputs": [],
   "source": [
    "import pylab "
   ]
  },
  {
   "cell_type": "code",
   "execution_count": 58,
   "id": "4058fbfc",
   "metadata": {},
   "outputs": [
    {
     "ename": "ValueError",
     "evalue": "all the input array dimensions for the concatenation axis must match exactly, but along dimension 1, the array at index 0 has size 20 and the array at index 1 has size 1",
     "output_type": "error",
     "traceback": [
      "\u001b[1;31m---------------------------------------------------------------------------\u001b[0m",
      "\u001b[1;31mValueError\u001b[0m                                Traceback (most recent call last)",
      "\u001b[1;32m<ipython-input-58-99229f4d7186>\u001b[0m in \u001b[0;36m<module>\u001b[1;34m\u001b[0m\n\u001b[1;32m----> 1\u001b[1;33m \u001b[0mstats\u001b[0m\u001b[1;33m.\u001b[0m\u001b[0mprobplot\u001b[0m\u001b[1;33m(\u001b[0m\u001b[0mdf\u001b[0m\u001b[1;33m,\u001b[0m \u001b[0mdist\u001b[0m\u001b[1;33m=\u001b[0m\u001b[1;34m'norm'\u001b[0m\u001b[1;33m,\u001b[0m \u001b[0mplot\u001b[0m\u001b[1;33m=\u001b[0m\u001b[0mpylab\u001b[0m\u001b[1;33m)\u001b[0m\u001b[1;33m\u001b[0m\u001b[0m\n\u001b[0m\u001b[0;32m      2\u001b[0m \u001b[0mpylab\u001b[0m\u001b[1;33m.\u001b[0m\u001b[0mshow\u001b[0m\u001b[1;33m(\u001b[0m\u001b[1;33m)\u001b[0m\u001b[1;33m\u001b[0m\u001b[0m\n",
      "\u001b[1;32mc:\\users\\user202\\appdata\\local\\programs\\python\\python37\\lib\\site-packages\\scipy\\stats\\morestats.py\u001b[0m in \u001b[0;36mprobplot\u001b[1;34m(x, sparams, dist, fit, plot, rvalue)\u001b[0m\n\u001b[0;32m    602\u001b[0m     \u001b[1;32mif\u001b[0m \u001b[0m_perform_fit\u001b[0m\u001b[1;33m:\u001b[0m\u001b[1;33m\u001b[0m\u001b[0m\n\u001b[0;32m    603\u001b[0m         \u001b[1;31m# perform a linear least squares fit.\u001b[0m\u001b[1;33m\u001b[0m\u001b[1;33m\u001b[0m\u001b[0m\n\u001b[1;32m--> 604\u001b[1;33m         \u001b[0mslope\u001b[0m\u001b[1;33m,\u001b[0m \u001b[0mintercept\u001b[0m\u001b[1;33m,\u001b[0m \u001b[0mr\u001b[0m\u001b[1;33m,\u001b[0m \u001b[0mprob\u001b[0m\u001b[1;33m,\u001b[0m \u001b[0m_\u001b[0m \u001b[1;33m=\u001b[0m \u001b[0mstats\u001b[0m\u001b[1;33m.\u001b[0m\u001b[0mlinregress\u001b[0m\u001b[1;33m(\u001b[0m\u001b[0mosm\u001b[0m\u001b[1;33m,\u001b[0m \u001b[0mosr\u001b[0m\u001b[1;33m)\u001b[0m\u001b[1;33m\u001b[0m\u001b[0m\n\u001b[0m\u001b[0;32m    605\u001b[0m \u001b[1;33m\u001b[0m\u001b[0m\n\u001b[0;32m    606\u001b[0m     \u001b[1;32mif\u001b[0m \u001b[0mplot\u001b[0m \u001b[1;32mis\u001b[0m \u001b[1;32mnot\u001b[0m \u001b[1;32mNone\u001b[0m\u001b[1;33m:\u001b[0m\u001b[1;33m\u001b[0m\u001b[0m\n",
      "\u001b[1;32mc:\\users\\user202\\appdata\\local\\programs\\python\\python37\\lib\\site-packages\\scipy\\stats\\_stats_mstats_common.py\u001b[0m in \u001b[0;36mlinregress\u001b[1;34m(x, y)\u001b[0m\n\u001b[0;32m    143\u001b[0m     \u001b[1;31m#   ssxm = mean( (x-mean(x))^2 )\u001b[0m\u001b[1;33m\u001b[0m\u001b[1;33m\u001b[0m\u001b[0m\n\u001b[0;32m    144\u001b[0m     \u001b[1;31m#   ssxym = mean( (x-mean(x)) * (y-mean(y)) )\u001b[0m\u001b[1;33m\u001b[0m\u001b[1;33m\u001b[0m\u001b[0m\n\u001b[1;32m--> 145\u001b[1;33m     \u001b[0mssxm\u001b[0m\u001b[1;33m,\u001b[0m \u001b[0mssxym\u001b[0m\u001b[1;33m,\u001b[0m \u001b[0m_\u001b[0m\u001b[1;33m,\u001b[0m \u001b[0mssym\u001b[0m \u001b[1;33m=\u001b[0m \u001b[0mnp\u001b[0m\u001b[1;33m.\u001b[0m\u001b[0mcov\u001b[0m\u001b[1;33m(\u001b[0m\u001b[0mx\u001b[0m\u001b[1;33m,\u001b[0m \u001b[0my\u001b[0m\u001b[1;33m,\u001b[0m \u001b[0mbias\u001b[0m\u001b[1;33m=\u001b[0m\u001b[1;36m1\u001b[0m\u001b[1;33m)\u001b[0m\u001b[1;33m.\u001b[0m\u001b[0mflat\u001b[0m\u001b[1;33m\u001b[0m\u001b[0m\n\u001b[0m\u001b[0;32m    146\u001b[0m \u001b[1;33m\u001b[0m\u001b[0m\n\u001b[0;32m    147\u001b[0m     \u001b[1;31m# R-value\u001b[0m\u001b[1;33m\u001b[0m\u001b[1;33m\u001b[0m\u001b[0m\n",
      "\u001b[1;32m<__array_function__ internals>\u001b[0m in \u001b[0;36mcov\u001b[1;34m(*args, **kwargs)\u001b[0m\n",
      "\u001b[1;32mc:\\users\\user202\\appdata\\local\\programs\\python\\python37\\lib\\site-packages\\numpy\\lib\\function_base.py\u001b[0m in \u001b[0;36mcov\u001b[1;34m(m, y, rowvar, bias, ddof, fweights, aweights)\u001b[0m\n\u001b[0;32m   2413\u001b[0m         \u001b[1;32mif\u001b[0m \u001b[1;32mnot\u001b[0m \u001b[0mrowvar\u001b[0m \u001b[1;32mand\u001b[0m \u001b[0my\u001b[0m\u001b[1;33m.\u001b[0m\u001b[0mshape\u001b[0m\u001b[1;33m[\u001b[0m\u001b[1;36m0\u001b[0m\u001b[1;33m]\u001b[0m \u001b[1;33m!=\u001b[0m \u001b[1;36m1\u001b[0m\u001b[1;33m:\u001b[0m\u001b[1;33m\u001b[0m\u001b[0m\n\u001b[0;32m   2414\u001b[0m             \u001b[0my\u001b[0m \u001b[1;33m=\u001b[0m \u001b[0my\u001b[0m\u001b[1;33m.\u001b[0m\u001b[0mT\u001b[0m\u001b[1;33m\u001b[0m\u001b[0m\n\u001b[1;32m-> 2415\u001b[1;33m         \u001b[0mX\u001b[0m \u001b[1;33m=\u001b[0m \u001b[0mnp\u001b[0m\u001b[1;33m.\u001b[0m\u001b[0mconcatenate\u001b[0m\u001b[1;33m(\u001b[0m\u001b[1;33m(\u001b[0m\u001b[0mX\u001b[0m\u001b[1;33m,\u001b[0m \u001b[0my\u001b[0m\u001b[1;33m)\u001b[0m\u001b[1;33m,\u001b[0m \u001b[0maxis\u001b[0m\u001b[1;33m=\u001b[0m\u001b[1;36m0\u001b[0m\u001b[1;33m)\u001b[0m\u001b[1;33m\u001b[0m\u001b[0m\n\u001b[0m\u001b[0;32m   2416\u001b[0m \u001b[1;33m\u001b[0m\u001b[0m\n\u001b[0;32m   2417\u001b[0m     \u001b[1;32mif\u001b[0m \u001b[0mddof\u001b[0m \u001b[1;32mis\u001b[0m \u001b[1;32mNone\u001b[0m\u001b[1;33m:\u001b[0m\u001b[1;33m\u001b[0m\u001b[0m\n",
      "\u001b[1;32m<__array_function__ internals>\u001b[0m in \u001b[0;36mconcatenate\u001b[1;34m(*args, **kwargs)\u001b[0m\n",
      "\u001b[1;31mValueError\u001b[0m: all the input array dimensions for the concatenation axis must match exactly, but along dimension 1, the array at index 0 has size 20 and the array at index 1 has size 1"
     ]
    }
   ],
   "source": [
    "stats.probplot(df, dist='norm', plot=pylab)\n",
    "pylab.show()"
   ]
  },
  {
   "cell_type": "code",
   "execution_count": null,
   "id": "b0a91869",
   "metadata": {},
   "outputs": [],
   "source": [
    "VARSAYIMLARIN SAĞLANIP SAĞLANMAMASI ,NORMAL MI NORMALLİK DAĞILIM-"
   ]
  },
  {
   "cell_type": "code",
   "execution_count": null,
   "id": "2e733a7b",
   "metadata": {},
   "outputs": [],
   "source": [
    "ölçümlerin dağılımı normal mı , hipotez testi ile test ediyoruz"
   ]
  },
  {
   "cell_type": "markdown",
   "id": "de5eb7e8",
   "metadata": {},
   "source": [
    "Shapiro-wilks "
   ]
  },
  {
   "cell_type": "markdown",
   "id": "889ec1da",
   "metadata": {},
   "source": [
    "### - Is the assumption provided? ###"
   ]
  },
  {
   "cell_type": "markdown",
   "id": "5da74073",
   "metadata": {},
   "source": [
    "#### Distribution suitability test ####"
   ]
  },
  {
   "cell_type": "markdown",
   "id": "8b40d69d",
   "metadata": {},
   "source": [
    "H0 = There is not significant difference between theoric distribution and sample distribution \n",
    "H1 = There is significant difference between theoric distribution and sample distribution "
   ]
  },
  {
   "cell_type": "markdown",
   "id": "342fb740",
   "metadata": {},
   "source": [
    "For instance I accept Ho, so we use One Sample T-test"
   ]
  },
  {
   "cell_type": "code",
   "execution_count": 60,
   "id": "1c852126",
   "metadata": {},
   "outputs": [],
   "source": [
    "from scipy.stats import shapiro"
   ]
  },
  {
   "cell_type": "code",
   "execution_count": 61,
   "id": "5817e4b1",
   "metadata": {},
   "outputs": [
    {
     "data": {
      "text/plain": [
       "ShapiroResult(statistic=0.5552172064781189, pvalue=1.0466931144037517e-06)"
      ]
     },
     "execution_count": 61,
     "metadata": {},
     "output_type": "execute_result"
    }
   ],
   "source": [
    "shapiro(df)"
   ]
  },
  {
   "cell_type": "markdown",
   "id": "3daf356f",
   "metadata": {},
   "source": [
    "p-value is bigger than 0.5 I mean I can not refuse H0"
   ]
  },
  {
   "cell_type": "markdown",
   "id": "2499e642",
   "metadata": {},
   "source": [
    "### 1-One Sample T-test ###"
   ]
  },
  {
   "cell_type": "markdown",
   "id": "8c753887",
   "metadata": {},
   "source": [
    "#### We implement One Sample T-test according to the assumption is provided. ####"
   ]
  },
  {
   "cell_type": "code",
   "execution_count": 65,
   "id": "3f523d73",
   "metadata": {},
   "outputs": [
    {
     "data": {
      "text/plain": [
       "Ttest_1sampResult(statistic=array([-0.3601048]), pvalue=array([0.7227407]))"
      ]
     },
     "execution_count": 65,
     "metadata": {},
     "output_type": "execute_result"
    }
   ],
   "source": [
    "stats.ttest_1samp(df, popmean=150)"
   ]
  },
  {
   "cell_type": "markdown",
   "id": "65593974",
   "metadata": {},
   "source": [
    "Ho = Customers spend 150 second on our website\n",
    "H1 = Customers do not spend 150 second on my website"
   ]
  },
  {
   "cell_type": "markdown",
   "id": "22991e13",
   "metadata": {},
   "source": [
    "#### Conclusion ####"
   ]
  },
  {
   "cell_type": "markdown",
   "id": "96c83162",
   "metadata": {},
   "source": [
    "#### p-value is bigger then alpha that we define alpha=0,05 so we do not refuse H0. ####"
   ]
  },
  {
   "cell_type": "markdown",
   "id": "240b07a3",
   "metadata": {},
   "source": [
    "### 2- Nonprametric One Sample test ###"
   ]
  },
  {
   "cell_type": "markdown",
   "id": "56a1cf1b",
   "metadata": {},
   "source": [
    "If we refuse H0 in Shapiro-wilks test we use Nonprametric One Sample test.Before we accept Ho and we apply Prametric Sample Test"
   ]
  },
  {
   "cell_type": "markdown",
   "id": "14c4b0c2",
   "metadata": {},
   "source": [
    "We now refuse H0 and use Nonprametric One Sample Test"
   ]
  },
  {
   "cell_type": "code",
   "execution_count": 2,
   "id": "fd0ffdbe",
   "metadata": {},
   "outputs": [],
   "source": [
    "from statsmodels.stats.descriptivestats import sign_test"
   ]
  },
  {
   "cell_type": "code",
   "execution_count": 10,
   "id": "8c4798d7",
   "metadata": {},
   "outputs": [
    {
     "data": {
      "text/plain": [
       "(-5.5, 0.019210815429687503)"
      ]
     },
     "execution_count": 10,
     "metadata": {},
     "output_type": "execute_result"
    }
   ],
   "source": [
    "sign_test(df, 170)"
   ]
  },
  {
   "cell_type": "markdown",
   "id": "721a65b3",
   "metadata": {},
   "source": [
    "#### Conclusion ####"
   ]
  },
  {
   "cell_type": "markdown",
   "id": "13850e56",
   "metadata": {},
   "source": [
    "p-value is smaller then alpha that we define alpha=0,05 so we should refuse H0."
   ]
  },
  {
   "cell_type": "markdown",
   "id": "5b594f69",
   "metadata": {},
   "source": [
    "### 3- One Sample proportion test ###"
   ]
  },
  {
   "cell_type": "markdown",
   "id": "7c99642d",
   "metadata": {},
   "source": [
    "We use One Sample Ratio test when we want to test proportional expression.And we use One sample Z-test for proportion"
   ]
  },
  {
   "cell_type": "markdown",
   "id": "f641b6bd",
   "metadata": {},
   "source": [
    "### 4- Conversion Rate ###"
   ]
  },
  {
   "cell_type": "markdown",
   "id": "13c7c950",
   "metadata": {},
   "source": [
    "number of action /total number of accesses"
   ]
  },
  {
   "cell_type": "markdown",
   "id": "97ad9050",
   "metadata": {},
   "source": [
    "Ex: Conversion Rate is 0,125.İs this rate right?"
   ]
  },
  {
   "cell_type": "markdown",
   "id": "1f887a21",
   "metadata": {},
   "source": [
    "#### Hypothesis ####"
   ]
  },
  {
   "cell_type": "markdown",
   "id": "58e07ddd",
   "metadata": {},
   "source": [
    "H0:p=0.125\n",
    "H1:P!=0.125"
   ]
  },
  {
   "cell_type": "code",
   "execution_count": 12,
   "id": "26529b43",
   "metadata": {},
   "outputs": [],
   "source": [
    "from statsmodels.stats.proportion import proportions_ztest"
   ]
  },
  {
   "cell_type": "markdown",
   "id": "30bec029",
   "metadata": {},
   "source": [
    "* count =40 (the number of success)\n",
    "* nobs =500   (total number of accesses)\n",
    "* value=0.125"
   ]
  },
  {
   "cell_type": "code",
   "execution_count": 14,
   "id": "56a632cd",
   "metadata": {},
   "outputs": [],
   "source": [
    "count=40\n",
    "nobs=500\n",
    "value=0.125"
   ]
  },
  {
   "cell_type": "code",
   "execution_count": 15,
   "id": "35a4129e",
   "metadata": {},
   "outputs": [
    {
     "data": {
      "text/plain": [
       "(-3.7090151628513017, 0.0002080669689845979)"
      ]
     },
     "execution_count": 15,
     "metadata": {},
     "output_type": "execute_result"
    }
   ],
   "source": [
    "proportions_ztest(count, nobs, value)"
   ]
  },
  {
   "cell_type": "markdown",
   "id": "762a7884",
   "metadata": {},
   "source": [
    "p value=0.0002080669689845979 is smaller than 0.05 so we refuse H0 Hypothesis"
   ]
  },
  {
   "cell_type": "markdown",
   "id": "4ad6316b",
   "metadata": {},
   "source": [
    "### 5- Two independent samples t-tests ###"
   ]
  },
  {
   "cell_type": "markdown",
   "id": "11b72690",
   "metadata": {},
   "source": [
    "#### Use an independent samples t test when you want to compare the means of precisely two groups—no more and no less! Typically, you perform this test to determine whether two population means are different. ####"
   ]
  },
  {
   "cell_type": "markdown",
   "id": "f78b56c1",
   "metadata": {},
   "source": [
    "HO:µ₁=µ₂\n",
    "H1:µ₁≠µ₂ etc.."
   ]
  },
  {
   "cell_type": "markdown",
   "id": "4115ce4d",
   "metadata": {},
   "source": [
    "#### There are two assumptions,Assumption of Normality and Homogeneity of Variance ####"
   ]
  },
  {
   "cell_type": "markdown",
   "id": "8e30b959",
   "metadata": {},
   "source": [
    "### b -Homogeneity of Variance ###"
   ]
  },
  {
   "cell_type": "markdown",
   "id": "1041dafa",
   "metadata": {},
   "source": [
    "Ex: Is benefit of old system equal benefit of new system"
   ]
  },
  {
   "cell_type": "markdown",
   "id": "2fcb0879",
   "metadata": {},
   "source": [
    "#### HO:µ₁=µ₂ H1:µ₁≠µ₂ ####"
   ]
  },
  {
   "cell_type": "markdown",
   "id": "16a06e38",
   "metadata": {},
   "source": [
    "* A = old system\n",
    "* B = new system"
   ]
  },
  {
   "cell_type": "markdown",
   "id": "7db36d51",
   "metadata": {},
   "source": [
    "#### AB test ####"
   ]
  },
  {
   "cell_type": "code",
   "execution_count": 5,
   "id": "5bf62ce1",
   "metadata": {},
   "outputs": [],
   "source": [
    "import pandas as pd"
   ]
  },
  {
   "cell_type": "code",
   "execution_count": 6,
   "id": "4d1e4d2b",
   "metadata": {},
   "outputs": [],
   "source": [
    "A=pd.DataFrame([11,23,52,45,85,96,12,25,23,14,33,36,35,30,22,27])"
   ]
  },
  {
   "cell_type": "code",
   "execution_count": 7,
   "id": "cc585fa2",
   "metadata": {},
   "outputs": [],
   "source": [
    "B=pd.DataFrame([28,56,42,36,85,95,48,72,47,91,52,45,63,29,41,47])"
   ]
  },
  {
   "cell_type": "code",
   "execution_count": 8,
   "id": "c46b32f6",
   "metadata": {},
   "outputs": [],
   "source": [
    "AB=pd.concat([A,B], axis=1)"
   ]
  },
  {
   "cell_type": "code",
   "execution_count": 9,
   "id": "d2b87ea0",
   "metadata": {},
   "outputs": [],
   "source": [
    "AB.columns=['A','B']"
   ]
  },
  {
   "cell_type": "code",
   "execution_count": 27,
   "id": "f70dc9c6",
   "metadata": {},
   "outputs": [
    {
     "data": {
      "text/html": [
       "<div>\n",
       "<style scoped>\n",
       "    .dataframe tbody tr th:only-of-type {\n",
       "        vertical-align: middle;\n",
       "    }\n",
       "\n",
       "    .dataframe tbody tr th {\n",
       "        vertical-align: top;\n",
       "    }\n",
       "\n",
       "    .dataframe thead th {\n",
       "        text-align: right;\n",
       "    }\n",
       "</style>\n",
       "<table border=\"1\" class=\"dataframe\">\n",
       "  <thead>\n",
       "    <tr style=\"text-align: right;\">\n",
       "      <th></th>\n",
       "      <th>A</th>\n",
       "      <th>B</th>\n",
       "    </tr>\n",
       "  </thead>\n",
       "  <tbody>\n",
       "    <tr>\n",
       "      <th>0</th>\n",
       "      <td>11</td>\n",
       "      <td>28</td>\n",
       "    </tr>\n",
       "    <tr>\n",
       "      <th>1</th>\n",
       "      <td>23</td>\n",
       "      <td>56</td>\n",
       "    </tr>\n",
       "    <tr>\n",
       "      <th>2</th>\n",
       "      <td>52</td>\n",
       "      <td>42</td>\n",
       "    </tr>\n",
       "    <tr>\n",
       "      <th>3</th>\n",
       "      <td>45</td>\n",
       "      <td>36</td>\n",
       "    </tr>\n",
       "    <tr>\n",
       "      <th>4</th>\n",
       "      <td>85</td>\n",
       "      <td>85</td>\n",
       "    </tr>\n",
       "  </tbody>\n",
       "</table>\n",
       "</div>"
      ],
      "text/plain": [
       "    A   B\n",
       "0  11  28\n",
       "1  23  56\n",
       "2  52  42\n",
       "3  45  36\n",
       "4  85  85"
      ]
     },
     "execution_count": 27,
     "metadata": {},
     "output_type": "execute_result"
    }
   ],
   "source": [
    "AB.head()"
   ]
  },
  {
   "cell_type": "markdown",
   "id": "d157ac3d",
   "metadata": {},
   "source": [
    "#### 1-Prepare the data ####"
   ]
  },
  {
   "cell_type": "code",
   "execution_count": 12,
   "id": "6fc4b12b",
   "metadata": {},
   "outputs": [],
   "source": [
    "import numpy as np"
   ]
  },
  {
   "cell_type": "code",
   "execution_count": 14,
   "id": "665165d4",
   "metadata": {},
   "outputs": [],
   "source": [
    "AGROUP=np.arange(len(A))"
   ]
  },
  {
   "cell_type": "code",
   "execution_count": 15,
   "id": "ca4cab48",
   "metadata": {},
   "outputs": [],
   "source": [
    "AGROUP=pd.DataFrame(AGROUP)"
   ]
  },
  {
   "cell_type": "code",
   "execution_count": 16,
   "id": "c944ad64",
   "metadata": {},
   "outputs": [],
   "source": [
    "AGROUP[:]='A'"
   ]
  },
  {
   "cell_type": "code",
   "execution_count": 17,
   "id": "96fb97d6",
   "metadata": {},
   "outputs": [],
   "source": [
    "A=pd.concat([A, AGROUP], axis=1)"
   ]
  },
  {
   "cell_type": "code",
   "execution_count": 18,
   "id": "7e36d580",
   "metadata": {},
   "outputs": [],
   "source": [
    "BGROUP=np.arange(len(B))\n",
    "BGROUP=pd.DataFrame(BGROUP)\n",
    "BGROUP[:]='B'\n",
    "B=pd.concat([B, BGROUP], axis=1)"
   ]
  },
  {
   "cell_type": "code",
   "execution_count": 25,
   "id": "49ba46b0",
   "metadata": {},
   "outputs": [
    {
     "data": {
      "text/html": [
       "<div>\n",
       "<style scoped>\n",
       "    .dataframe tbody tr th:only-of-type {\n",
       "        vertical-align: middle;\n",
       "    }\n",
       "\n",
       "    .dataframe tbody tr th {\n",
       "        vertical-align: top;\n",
       "    }\n",
       "\n",
       "    .dataframe thead th {\n",
       "        text-align: right;\n",
       "    }\n",
       "</style>\n",
       "<table border=\"1\" class=\"dataframe\">\n",
       "  <thead>\n",
       "    <tr style=\"text-align: right;\">\n",
       "      <th></th>\n",
       "      <th>0</th>\n",
       "      <th>0</th>\n",
       "    </tr>\n",
       "  </thead>\n",
       "  <tbody>\n",
       "    <tr>\n",
       "      <th>0</th>\n",
       "      <td>11</td>\n",
       "      <td>A</td>\n",
       "    </tr>\n",
       "    <tr>\n",
       "      <th>1</th>\n",
       "      <td>23</td>\n",
       "      <td>A</td>\n",
       "    </tr>\n",
       "    <tr>\n",
       "      <th>2</th>\n",
       "      <td>52</td>\n",
       "      <td>A</td>\n",
       "    </tr>\n",
       "    <tr>\n",
       "      <th>3</th>\n",
       "      <td>45</td>\n",
       "      <td>A</td>\n",
       "    </tr>\n",
       "    <tr>\n",
       "      <th>4</th>\n",
       "      <td>85</td>\n",
       "      <td>A</td>\n",
       "    </tr>\n",
       "  </tbody>\n",
       "</table>\n",
       "</div>"
      ],
      "text/plain": [
       "    0  0\n",
       "0  11  A\n",
       "1  23  A\n",
       "2  52  A\n",
       "3  45  A\n",
       "4  85  A"
      ]
     },
     "execution_count": 25,
     "metadata": {},
     "output_type": "execute_result"
    }
   ],
   "source": [
    "A.head()"
   ]
  },
  {
   "cell_type": "code",
   "execution_count": 26,
   "id": "93706b49",
   "metadata": {},
   "outputs": [
    {
     "data": {
      "text/html": [
       "<div>\n",
       "<style scoped>\n",
       "    .dataframe tbody tr th:only-of-type {\n",
       "        vertical-align: middle;\n",
       "    }\n",
       "\n",
       "    .dataframe tbody tr th {\n",
       "        vertical-align: top;\n",
       "    }\n",
       "\n",
       "    .dataframe thead th {\n",
       "        text-align: right;\n",
       "    }\n",
       "</style>\n",
       "<table border=\"1\" class=\"dataframe\">\n",
       "  <thead>\n",
       "    <tr style=\"text-align: right;\">\n",
       "      <th></th>\n",
       "      <th>0</th>\n",
       "      <th>0</th>\n",
       "    </tr>\n",
       "  </thead>\n",
       "  <tbody>\n",
       "    <tr>\n",
       "      <th>0</th>\n",
       "      <td>28</td>\n",
       "      <td>B</td>\n",
       "    </tr>\n",
       "    <tr>\n",
       "      <th>1</th>\n",
       "      <td>56</td>\n",
       "      <td>B</td>\n",
       "    </tr>\n",
       "    <tr>\n",
       "      <th>2</th>\n",
       "      <td>42</td>\n",
       "      <td>B</td>\n",
       "    </tr>\n",
       "    <tr>\n",
       "      <th>3</th>\n",
       "      <td>36</td>\n",
       "      <td>B</td>\n",
       "    </tr>\n",
       "    <tr>\n",
       "      <th>4</th>\n",
       "      <td>85</td>\n",
       "      <td>B</td>\n",
       "    </tr>\n",
       "  </tbody>\n",
       "</table>\n",
       "</div>"
      ],
      "text/plain": [
       "    0  0\n",
       "0  28  B\n",
       "1  56  B\n",
       "2  42  B\n",
       "3  36  B\n",
       "4  85  B"
      ]
     },
     "execution_count": 26,
     "metadata": {},
     "output_type": "execute_result"
    }
   ],
   "source": [
    "B.head()"
   ]
  },
  {
   "cell_type": "code",
   "execution_count": 22,
   "id": "61a866e6",
   "metadata": {},
   "outputs": [],
   "source": [
    "A_B=pd.concat([A,B])\n",
    "A_B.columns=['amount','group']"
   ]
  },
  {
   "cell_type": "code",
   "execution_count": 24,
   "id": "55ece45c",
   "metadata": {},
   "outputs": [
    {
     "data": {
      "text/html": [
       "<div>\n",
       "<style scoped>\n",
       "    .dataframe tbody tr th:only-of-type {\n",
       "        vertical-align: middle;\n",
       "    }\n",
       "\n",
       "    .dataframe tbody tr th {\n",
       "        vertical-align: top;\n",
       "    }\n",
       "\n",
       "    .dataframe thead th {\n",
       "        text-align: right;\n",
       "    }\n",
       "</style>\n",
       "<table border=\"1\" class=\"dataframe\">\n",
       "  <thead>\n",
       "    <tr style=\"text-align: right;\">\n",
       "      <th></th>\n",
       "      <th>amount</th>\n",
       "      <th>group</th>\n",
       "    </tr>\n",
       "  </thead>\n",
       "  <tbody>\n",
       "    <tr>\n",
       "      <th>0</th>\n",
       "      <td>11</td>\n",
       "      <td>A</td>\n",
       "    </tr>\n",
       "    <tr>\n",
       "      <th>1</th>\n",
       "      <td>23</td>\n",
       "      <td>A</td>\n",
       "    </tr>\n",
       "    <tr>\n",
       "      <th>2</th>\n",
       "      <td>52</td>\n",
       "      <td>A</td>\n",
       "    </tr>\n",
       "    <tr>\n",
       "      <th>3</th>\n",
       "      <td>45</td>\n",
       "      <td>A</td>\n",
       "    </tr>\n",
       "    <tr>\n",
       "      <th>4</th>\n",
       "      <td>85</td>\n",
       "      <td>A</td>\n",
       "    </tr>\n",
       "  </tbody>\n",
       "</table>\n",
       "</div>"
      ],
      "text/plain": [
       "   amount group\n",
       "0      11     A\n",
       "1      23     A\n",
       "2      52     A\n",
       "3      45     A\n",
       "4      85     A"
      ]
     },
     "execution_count": 24,
     "metadata": {},
     "output_type": "execute_result"
    }
   ],
   "source": [
    "A_B.head()"
   ]
  },
  {
   "cell_type": "code",
   "execution_count": 29,
   "id": "80705a01",
   "metadata": {},
   "outputs": [
    {
     "data": {
      "text/html": [
       "<div>\n",
       "<style scoped>\n",
       "    .dataframe tbody tr th:only-of-type {\n",
       "        vertical-align: middle;\n",
       "    }\n",
       "\n",
       "    .dataframe tbody tr th {\n",
       "        vertical-align: top;\n",
       "    }\n",
       "\n",
       "    .dataframe thead th {\n",
       "        text-align: right;\n",
       "    }\n",
       "</style>\n",
       "<table border=\"1\" class=\"dataframe\">\n",
       "  <thead>\n",
       "    <tr style=\"text-align: right;\">\n",
       "      <th></th>\n",
       "      <th>amount</th>\n",
       "      <th>group</th>\n",
       "    </tr>\n",
       "  </thead>\n",
       "  <tbody>\n",
       "    <tr>\n",
       "      <th>11</th>\n",
       "      <td>45</td>\n",
       "      <td>B</td>\n",
       "    </tr>\n",
       "    <tr>\n",
       "      <th>12</th>\n",
       "      <td>63</td>\n",
       "      <td>B</td>\n",
       "    </tr>\n",
       "    <tr>\n",
       "      <th>13</th>\n",
       "      <td>29</td>\n",
       "      <td>B</td>\n",
       "    </tr>\n",
       "    <tr>\n",
       "      <th>14</th>\n",
       "      <td>41</td>\n",
       "      <td>B</td>\n",
       "    </tr>\n",
       "    <tr>\n",
       "      <th>15</th>\n",
       "      <td>47</td>\n",
       "      <td>B</td>\n",
       "    </tr>\n",
       "  </tbody>\n",
       "</table>\n",
       "</div>"
      ],
      "text/plain": [
       "    amount group\n",
       "11      45     B\n",
       "12      63     B\n",
       "13      29     B\n",
       "14      41     B\n",
       "15      47     B"
      ]
     },
     "execution_count": 29,
     "metadata": {},
     "output_type": "execute_result"
    }
   ],
   "source": [
    "A_B.tail()"
   ]
  },
  {
   "cell_type": "code",
   "execution_count": 30,
   "id": "114d00a0",
   "metadata": {},
   "outputs": [],
   "source": [
    "import seaborn as sns"
   ]
  },
  {
   "cell_type": "code",
   "execution_count": 33,
   "id": "8e518fd6",
   "metadata": {},
   "outputs": [
    {
     "data": {
      "image/png": "[encoded data removed]",
      "text/plain": [
       "<Figure size 432x288 with 1 Axes>"
      ]
     },
     "metadata": {
      "needs_background": "light"
     },
     "output_type": "display_data"
    }
   ],
   "source": [
    "sns.boxplot(x='amount', y='group', data=A_B);"
   ]
  },
  {
   "cell_type": "markdown",
   "id": "c219824c",
   "metadata": {},
   "source": [
    "We must consider that B group is bigger than A group"
   ]
  },
  {
   "cell_type": "markdown",
   "id": "174e16e6",
   "metadata": {},
   "source": [
    "#### 2- Check Normality Assumption ####"
   ]
  },
  {
   "cell_type": "markdown",
   "id": "135e6f95",
   "metadata": {},
   "source": [
    "#### a-Shapiro Test ####"
   ]
  },
  {
   "cell_type": "code",
   "execution_count": 35,
   "id": "43534a12",
   "metadata": {},
   "outputs": [],
   "source": [
    "from scipy.stats import shapiro"
   ]
  },
  {
   "cell_type": "code",
   "execution_count": 36,
   "id": "fa75139e",
   "metadata": {},
   "outputs": [
    {
     "data": {
      "text/plain": [
       "ShapiroResult(statistic=0.8143752813339233, pvalue=0.004254387691617012)"
      ]
     },
     "execution_count": 36,
     "metadata": {},
     "output_type": "execute_result"
    }
   ],
   "source": [
    "shapiro(AB.A)"
   ]
  },
  {
   "cell_type": "code",
   "execution_count": 37,
   "id": "19b85a2b",
   "metadata": {},
   "outputs": [
    {
     "data": {
      "text/plain": [
       "ShapiroResult(statistic=0.9052063822746277, pvalue=0.09741933643817902)"
      ]
     },
     "execution_count": 37,
     "metadata": {},
     "output_type": "execute_result"
    }
   ],
   "source": [
    "shapiro(AB.B)"
   ]
  },
  {
   "cell_type": "markdown",
   "id": "6c393097",
   "metadata": {},
   "source": [
    "#### b -Homogeneity of Variance ####"
   ]
  },
  {
   "cell_type": "markdown",
   "id": "3bf375f2",
   "metadata": {},
   "source": [
    "H0:Variance is homogeneity\n",
    "H1:Variance is not homogeneity"
   ]
  },
  {
   "cell_type": "code",
   "execution_count": 49,
   "id": "b994873d",
   "metadata": {},
   "outputs": [],
   "source": [
    "import scipy.stats as stats"
   ]
  },
  {
   "cell_type": "code",
   "execution_count": 50,
   "id": "86397440",
   "metadata": {},
   "outputs": [
    {
     "data": {
      "text/plain": [
       "LeveneResult(statistic=0.006561051955330171, pvalue=0.9359796760322826)"
      ]
     },
     "execution_count": 50,
     "metadata": {},
     "output_type": "execute_result"
    }
   ],
   "source": [
    "stats.levene(AB.A, AB.B)"
   ]
  },
  {
   "cell_type": "markdown",
   "id": "8af8ccda",
   "metadata": {},
   "source": [
    "#### 3-Hypothesis testing(T) ####"
   ]
  },
  {
   "cell_type": "code",
   "execution_count": 51,
   "id": "f7a6aa0d",
   "metadata": {},
   "outputs": [
    {
     "data": {
      "text/plain": [
       "Ttest_indResult(statistic=-2.40559426736709, pvalue=0.022517198191121877)"
      ]
     },
     "execution_count": 51,
     "metadata": {},
     "output_type": "execute_result"
    }
   ],
   "source": [
    "stats.ttest_ind(AB['A'], AB['B'], equal_var=True)"
   ]
  },
  {
   "cell_type": "markdown",
   "id": "7d60fc80",
   "metadata": {},
   "source": [
    "P-Value is smaller than 0,05- We refuse H0,ıt means benefit of old system is not equal benefit of new system"
   ]
  },
  {
   "cell_type": "markdown",
   "id": "4d75303a",
   "metadata": {},
   "source": [
    "### 6- Nonprametric two independent samples t-tests ###"
   ]
  },
  {
   "cell_type": "code",
   "execution_count": 52,
   "id": "7c27cf97",
   "metadata": {},
   "outputs": [
    {
     "data": {
      "text/plain": [
       "MannwhitneyuResult(statistic=53.0, pvalue=0.0024819314652447947)"
      ]
     },
     "execution_count": 52,
     "metadata": {},
     "output_type": "execute_result"
    }
   ],
   "source": [
    "stats.mannwhitneyu(AB['A'], AB['B'])"
   ]
  },
  {
   "cell_type": "markdown",
   "id": "dcca832d",
   "metadata": {},
   "source": [
    "P-Value is smaller than 0,05- We refuse H0,ıt means benefit of old system is not equal benefit of new system"
   ]
  },
  {
   "cell_type": "markdown",
   "id": "bb1de3b4",
   "metadata": {},
   "source": [
    "### 7- Two dependent samples t-tests ###"
   ]
  },
  {
   "cell_type": "markdown",
   "id": "d8dea8b4",
   "metadata": {},
   "source": [
    "The dependent t-test (also called the paired t-test or paired-samples t-test) compares the means of two related groups to determine whether there is a statistically significant difference between these means."
   ]
  },
  {
   "cell_type": "markdown",
   "id": "0f1ec6f7",
   "metadata": {},
   "source": [
    "There are two assumptions,Assumption of Normality and Homogeneity of Variance"
   ]
  }
 ],
 "metadata": {
  "kernelspec": {
   "display_name": "Python 3",
   "language": "python",
   "name": "python3"
  },
  "language_info": {
   "codemirror_mode": {
    "name": "ipython",
    "version": 3
   },
   "file_extension": ".py",
   "mimetype": "text/x-python",
   "name": "python",
   "nbconvert_exporter": "python",
   "pygments_lexer": "ipython3",
   "version": "3.7.0"
  }
 },
 "nbformat": 4,
 "nbformat_minor": 5
}
